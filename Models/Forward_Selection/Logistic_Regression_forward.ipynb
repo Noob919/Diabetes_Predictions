{
  "nbformat": 4,
  "nbformat_minor": 0,
  "metadata": {
    "colab": {
      "name": "Logistic_Regression_forward.ipynb",
      "provenance": [],
      "authorship_tag": "ABX9TyPToU6AxIXATkOU9UnChl/z",
      "include_colab_link": true
    },
    "kernelspec": {
      "name": "python3",
      "display_name": "Python 3"
    },
    "language_info": {
      "name": "python"
    }
  },
  "cells": [
    {
      "cell_type": "markdown",
      "metadata": {
        "id": "view-in-github",
        "colab_type": "text"
      },
      "source": [
        "<a href=\"https://colab.research.google.com/github/Noob919/Diabetes_Predictions/blob/main/Models/Forward_Selection/Logistic_Regression_forward.ipynb\" target=\"_parent\"><img src=\"https://colab.research.google.com/assets/colab-badge.svg\" alt=\"Open In Colab\"/></a>"
      ]
    },
    {
      "cell_type": "code",
      "execution_count": 1,
      "metadata": {
        "id": "nS28ZTLyp75r"
      },
      "outputs": [],
      "source": [
        "import numpy as np\n",
        "import pandas as pd\n",
        "import matplotlib.pyplot as plt\n",
        "from sklearn.model_selection import train_test_split\n",
        "from sklearn.metrics import confusion_matrix\n",
        "from sklearn.metrics import accuracy_score,f1_score,precision_score,recall_score\n",
        "from sklearn.preprocessing import StandardScaler\n",
        "from sklearn.preprocessing import Normalizer\n",
        "import matplotlib.pyplot as plt\n",
        "from sklearn.metrics import f1_score\n",
        "from sklearn.metrics import confusion_matrix\n",
        "import seaborn as sns\n",
        "from sklearn.linear_model import LogisticRegression"
      ]
    },
    {
      "cell_type": "code",
      "source": [
        "path = \"https://raw.githubusercontent.com/Noob919/Diabetes_Predictions/main/DataUsed/diabetes_binary_health_indicators_BRFSS2015.csv\"\n",
        "df =  pd.read_csv(path)\n",
        "Scaler = StandardScaler()"
      ],
      "metadata": {
        "id": "bRuD6XyQqEXa"
      },
      "execution_count": 2,
      "outputs": []
    },
    {
      "cell_type": "code",
      "source": [
        "X =  df.drop('Diabetes_binary', axis =1)\n",
        "y = df['Diabetes_binary']\n",
        "X_scaler = Scaler.fit_transform(X)"
      ],
      "metadata": {
        "id": "TGBaatfCqH4V"
      },
      "execution_count": 3,
      "outputs": []
    },
    {
      "cell_type": "code",
      "source": [
        "clflr = LogisticRegression(max_iter = 130)"
      ],
      "metadata": {
        "id": "ADtUn0Xjqyhf"
      },
      "execution_count": 4,
      "outputs": []
    },
    {
      "cell_type": "code",
      "source": [
        "!pip install mlxtend --upgrade --no-deps"
      ],
      "metadata": {
        "colab": {
          "base_uri": "https://localhost:8080/"
        },
        "id": "xxyramIyq5Tj",
        "outputId": "f86118f7-319a-4206-d527-638b872080d0"
      },
      "execution_count": 5,
      "outputs": [
        {
          "output_type": "stream",
          "name": "stdout",
          "text": [
            "Looking in indexes: https://pypi.org/simple, https://us-python.pkg.dev/colab-wheels/public/simple/\n",
            "Requirement already satisfied: mlxtend in /usr/local/lib/python3.7/dist-packages (0.14.0)\n",
            "Collecting mlxtend\n",
            "  Downloading mlxtend-0.20.0-py2.py3-none-any.whl (1.3 MB)\n",
            "\u001b[K     |████████████████████████████████| 1.3 MB 17.5 MB/s \n",
            "\u001b[?25hInstalling collected packages: mlxtend\n",
            "  Attempting uninstall: mlxtend\n",
            "    Found existing installation: mlxtend 0.14.0\n",
            "    Uninstalling mlxtend-0.14.0:\n",
            "      Successfully uninstalled mlxtend-0.14.0\n",
            "Successfully installed mlxtend-0.20.0\n"
          ]
        }
      ]
    },
    {
      "cell_type": "code",
      "source": [
        "from mlxtend.plotting import plot_sequential_feature_selection as plot_sfs\n",
        "from mlxtend.feature_selection import SequentialFeatureSelector as SFS"
      ],
      "metadata": {
        "id": "wJLqUUSMq9K3"
      },
      "execution_count": 6,
      "outputs": []
    },
    {
      "cell_type": "code",
      "source": [
        "sfs = SFS(clflr, \n",
        "           k_features= (1,21), \n",
        "           forward=True, \n",
        "           floating=True, \n",
        "           verbose=2,\n",
        "           scoring='accuracy',\n",
        "           cv=3).fit(X_scaler,y)"
      ],
      "metadata": {
        "colab": {
          "base_uri": "https://localhost:8080/"
        },
        "id": "cD8excV5q_xu",
        "outputId": "5fe8d0ad-f11e-42ad-d6fc-94a4f4077881"
      },
      "execution_count": 7,
      "outputs": [
        {
          "output_type": "stream",
          "name": "stderr",
          "text": [
            "[Parallel(n_jobs=1)]: Using backend SequentialBackend with 1 concurrent workers.\n",
            "[Parallel(n_jobs=1)]: Done   1 out of   1 | elapsed:    1.9s remaining:    0.0s\n",
            "[Parallel(n_jobs=1)]: Done  21 out of  21 | elapsed:   37.0s finished\n",
            "\n",
            "[2022-07-23 20:43:37] Features: 1/21 -- score: 0.8606669820245979[Parallel(n_jobs=1)]: Using backend SequentialBackend with 1 concurrent workers.\n",
            "[Parallel(n_jobs=1)]: Done   1 out of   1 | elapsed:    0.8s remaining:    0.0s\n",
            "[Parallel(n_jobs=1)]: Done  20 out of  20 | elapsed:   16.7s finished\n",
            "[Parallel(n_jobs=1)]: Using backend SequentialBackend with 1 concurrent workers.\n",
            "[Parallel(n_jobs=1)]: Done   1 out of   1 | elapsed:    0.8s remaining:    0.0s\n",
            "[Parallel(n_jobs=1)]: Done   1 out of   1 | elapsed:    0.8s finished\n",
            "\n",
            "[2022-07-23 20:43:55] Features: 2/21 -- score: 0.8606669820245979[Parallel(n_jobs=1)]: Using backend SequentialBackend with 1 concurrent workers.\n",
            "[Parallel(n_jobs=1)]: Done   1 out of   1 | elapsed:    1.0s remaining:    0.0s\n",
            "[Parallel(n_jobs=1)]: Done  19 out of  19 | elapsed:   16.4s finished\n",
            "[Parallel(n_jobs=1)]: Using backend SequentialBackend with 1 concurrent workers.\n",
            "[Parallel(n_jobs=1)]: Done   1 out of   1 | elapsed:    0.9s remaining:    0.0s\n",
            "[Parallel(n_jobs=1)]: Done   2 out of   2 | elapsed:    1.7s finished\n",
            "\n",
            "[2022-07-23 20:44:13] Features: 3/21 -- score: 0.8607379375591296[Parallel(n_jobs=1)]: Using backend SequentialBackend with 1 concurrent workers.\n",
            "[Parallel(n_jobs=1)]: Done   1 out of   1 | elapsed:    1.0s remaining:    0.0s\n",
            "[Parallel(n_jobs=1)]: Done  18 out of  18 | elapsed:   16.5s finished\n",
            "[Parallel(n_jobs=1)]: Using backend SequentialBackend with 1 concurrent workers.\n",
            "[Parallel(n_jobs=1)]: Done   1 out of   1 | elapsed:    0.9s remaining:    0.0s\n",
            "[Parallel(n_jobs=1)]: Done   3 out of   3 | elapsed:    2.6s finished\n",
            "\n",
            "[2022-07-23 20:44:32] Features: 4/21 -- score: 0.8628587196467992[Parallel(n_jobs=1)]: Using backend SequentialBackend with 1 concurrent workers.\n",
            "[Parallel(n_jobs=1)]: Done   1 out of   1 | elapsed:    1.1s remaining:    0.0s\n",
            "[Parallel(n_jobs=1)]: Done  17 out of  17 | elapsed:   18.6s finished\n",
            "[Parallel(n_jobs=1)]: Using backend SequentialBackend with 1 concurrent workers.\n",
            "[Parallel(n_jobs=1)]: Done   1 out of   1 | elapsed:    1.2s remaining:    0.0s\n",
            "[Parallel(n_jobs=1)]: Done   4 out of   4 | elapsed:    3.9s finished\n",
            "\n",
            "[2022-07-23 20:44:55] Features: 5/21 -- score: 0.86310706401766[Parallel(n_jobs=1)]: Using backend SequentialBackend with 1 concurrent workers.\n",
            "[Parallel(n_jobs=1)]: Done   1 out of   1 | elapsed:    1.2s remaining:    0.0s\n",
            "[Parallel(n_jobs=1)]: Done  16 out of  16 | elapsed:   16.9s finished\n",
            "[Parallel(n_jobs=1)]: Using backend SequentialBackend with 1 concurrent workers.\n",
            "[Parallel(n_jobs=1)]: Done   1 out of   1 | elapsed:    1.0s remaining:    0.0s\n",
            "[Parallel(n_jobs=1)]: Done   5 out of   5 | elapsed:    4.9s finished\n",
            "\n",
            "[2022-07-23 20:45:16] Features: 6/21 -- score: 0.8632962787764112[Parallel(n_jobs=1)]: Using backend SequentialBackend with 1 concurrent workers.\n",
            "[Parallel(n_jobs=1)]: Done   1 out of   1 | elapsed:    1.6s remaining:    0.0s\n",
            "[Parallel(n_jobs=1)]: Done  15 out of  15 | elapsed:   16.5s finished\n",
            "[Parallel(n_jobs=1)]: Using backend SequentialBackend with 1 concurrent workers.\n",
            "[Parallel(n_jobs=1)]: Done   1 out of   1 | elapsed:    1.1s remaining:    0.0s\n",
            "[Parallel(n_jobs=1)]: Done   6 out of   6 | elapsed:    6.9s finished\n",
            "\n",
            "[2022-07-23 20:45:40] Features: 7/21 -- score: 0.8634815515610218[Parallel(n_jobs=1)]: Using backend SequentialBackend with 1 concurrent workers.\n",
            "[Parallel(n_jobs=1)]: Done   1 out of   1 | elapsed:    1.2s remaining:    0.0s\n",
            "[Parallel(n_jobs=1)]: Done  14 out of  14 | elapsed:   17.5s finished\n",
            "[Parallel(n_jobs=1)]: Using backend SequentialBackend with 1 concurrent workers.\n",
            "[Parallel(n_jobs=1)]: Done   1 out of   1 | elapsed:    1.3s remaining:    0.0s\n",
            "[Parallel(n_jobs=1)]: Done   7 out of   7 | elapsed:    8.4s finished\n",
            "\n",
            "[2022-07-23 20:46:06] Features: 8/21 -- score: 0.8635052034058656[Parallel(n_jobs=1)]: Using backend SequentialBackend with 1 concurrent workers.\n",
            "[Parallel(n_jobs=1)]: Done   1 out of   1 | elapsed:    1.3s remaining:    0.0s\n",
            "[Parallel(n_jobs=1)]: Done  13 out of  13 | elapsed:   18.0s finished\n",
            "[Parallel(n_jobs=1)]: Using backend SequentialBackend with 1 concurrent workers.\n",
            "[Parallel(n_jobs=1)]: Done   1 out of   1 | elapsed:    1.2s remaining:    0.0s\n",
            "[Parallel(n_jobs=1)]: Done   8 out of   8 | elapsed:    9.7s finished\n",
            "\n",
            "[2022-07-23 20:46:33] Features: 9/21 -- score: 0.863501261431725[Parallel(n_jobs=1)]: Using backend SequentialBackend with 1 concurrent workers.\n",
            "[Parallel(n_jobs=1)]: Done   1 out of   1 | elapsed:    1.4s remaining:    0.0s\n",
            "[Parallel(n_jobs=1)]: Done  12 out of  12 | elapsed:   17.1s finished\n",
            "[Parallel(n_jobs=1)]: Using backend SequentialBackend with 1 concurrent workers.\n",
            "[Parallel(n_jobs=1)]: Done   1 out of   1 | elapsed:    1.3s remaining:    0.0s\n",
            "[Parallel(n_jobs=1)]: Done   9 out of   9 | elapsed:   11.9s finished\n",
            "\n",
            "[2022-07-23 20:47:02] Features: 10/21 -- score: 0.8635722169662566[Parallel(n_jobs=1)]: Using backend SequentialBackend with 1 concurrent workers.\n",
            "[Parallel(n_jobs=1)]: Done   1 out of   1 | elapsed:    1.5s remaining:    0.0s\n",
            "[Parallel(n_jobs=1)]: Done  11 out of  11 | elapsed:   16.1s finished\n",
            "[Parallel(n_jobs=1)]: Using backend SequentialBackend with 1 concurrent workers.\n",
            "[Parallel(n_jobs=1)]: Done   1 out of   1 | elapsed:    1.4s remaining:    0.0s\n",
            "[Parallel(n_jobs=1)]: Done  10 out of  10 | elapsed:   13.7s finished\n",
            "\n",
            "[2022-07-23 20:47:32] Features: 11/21 -- score: 0.8635170293282877[Parallel(n_jobs=1)]: Using backend SequentialBackend with 1 concurrent workers.\n",
            "[Parallel(n_jobs=1)]: Done   1 out of   1 | elapsed:    1.4s remaining:    0.0s\n",
            "[Parallel(n_jobs=1)]: Done  10 out of  10 | elapsed:   14.2s finished\n",
            "[Parallel(n_jobs=1)]: Using backend SequentialBackend with 1 concurrent workers.\n",
            "[Parallel(n_jobs=1)]: Done   1 out of   1 | elapsed:    1.4s remaining:    0.0s\n",
            "[Parallel(n_jobs=1)]: Done  11 out of  11 | elapsed:   15.7s finished\n",
            "\n",
            "[2022-07-23 20:48:02] Features: 12/21 -- score: 0.863501261431725[Parallel(n_jobs=1)]: Using backend SequentialBackend with 1 concurrent workers.\n",
            "[Parallel(n_jobs=1)]: Done   1 out of   1 | elapsed:    1.5s remaining:    0.0s\n",
            "[Parallel(n_jobs=1)]: Done   9 out of   9 | elapsed:   13.8s finished\n",
            "[Parallel(n_jobs=1)]: Using backend SequentialBackend with 1 concurrent workers.\n",
            "[Parallel(n_jobs=1)]: Done   1 out of   1 | elapsed:    1.4s remaining:    0.0s\n",
            "[Parallel(n_jobs=1)]: Done  12 out of  12 | elapsed:   16.7s finished\n",
            "\n",
            "[2022-07-23 20:48:33] Features: 13/21 -- score: 0.8634894355093031[Parallel(n_jobs=1)]: Using backend SequentialBackend with 1 concurrent workers.\n",
            "[Parallel(n_jobs=1)]: Done   1 out of   1 | elapsed:    1.6s remaining:    0.0s\n",
            "[Parallel(n_jobs=1)]: Done   8 out of   8 | elapsed:   12.3s finished\n",
            "[Parallel(n_jobs=1)]: Using backend SequentialBackend with 1 concurrent workers.\n",
            "[Parallel(n_jobs=1)]: Done   1 out of   1 | elapsed:    1.4s remaining:    0.0s\n",
            "[Parallel(n_jobs=1)]: Done  13 out of  13 | elapsed:   19.1s finished\n",
            "\n",
            "[2022-07-23 20:49:04] Features: 14/21 -- score: 0.8634066540523494[Parallel(n_jobs=1)]: Using backend SequentialBackend with 1 concurrent workers.\n",
            "[Parallel(n_jobs=1)]: Done   1 out of   1 | elapsed:    1.6s remaining:    0.0s\n",
            "[Parallel(n_jobs=1)]: Done   7 out of   7 | elapsed:   11.0s finished\n",
            "[Parallel(n_jobs=1)]: Using backend SequentialBackend with 1 concurrent workers.\n",
            "[Parallel(n_jobs=1)]: Done   1 out of   1 | elapsed:    1.5s remaining:    0.0s\n",
            "[Parallel(n_jobs=1)]: Done  14 out of  14 | elapsed:   21.3s finished\n",
            "[Parallel(n_jobs=1)]: Using backend SequentialBackend with 1 concurrent workers.\n",
            "[Parallel(n_jobs=1)]: Done   1 out of   1 | elapsed:    1.5s remaining:    0.0s\n",
            "[Parallel(n_jobs=1)]: Done  13 out of  13 | elapsed:   19.4s finished\n",
            "\n",
            "[2022-07-23 20:49:56] Features: 14/21 -- score: 0.8634657836644593[Parallel(n_jobs=1)]: Using backend SequentialBackend with 1 concurrent workers.\n",
            "[Parallel(n_jobs=1)]: Done   1 out of   1 | elapsed:    1.7s remaining:    0.0s\n",
            "[Parallel(n_jobs=1)]: Done   7 out of   7 | elapsed:   11.3s finished\n",
            "[Parallel(n_jobs=1)]: Using backend SequentialBackend with 1 concurrent workers.\n",
            "[Parallel(n_jobs=1)]: Done   1 out of   1 | elapsed:    1.5s remaining:    0.0s\n",
            "[Parallel(n_jobs=1)]: Done  14 out of  14 | elapsed:   21.3s finished\n",
            "\n",
            "[2022-07-23 20:50:28] Features: 15/21 -- score: 0.8633869441816461[Parallel(n_jobs=1)]: Using backend SequentialBackend with 1 concurrent workers.\n",
            "[Parallel(n_jobs=1)]: Done   1 out of   1 | elapsed:    1.5s remaining:    0.0s\n",
            "[Parallel(n_jobs=1)]: Done   6 out of   6 | elapsed:    8.8s finished\n",
            "[Parallel(n_jobs=1)]: Using backend SequentialBackend with 1 concurrent workers.\n",
            "[Parallel(n_jobs=1)]: Done   1 out of   1 | elapsed:    1.6s remaining:    0.0s\n",
            "[Parallel(n_jobs=1)]: Done  15 out of  15 | elapsed:   23.8s finished\n",
            "[Parallel(n_jobs=1)]: Using backend SequentialBackend with 1 concurrent workers.\n",
            "[Parallel(n_jobs=1)]: Done   1 out of   1 | elapsed:    1.5s remaining:    0.0s\n",
            "[Parallel(n_jobs=1)]: Done  14 out of  14 | elapsed:   21.0s finished\n",
            "[Parallel(n_jobs=1)]: Using backend SequentialBackend with 1 concurrent workers.\n",
            "[Parallel(n_jobs=1)]: Done   1 out of   1 | elapsed:    1.5s remaining:    0.0s\n",
            "[Parallel(n_jobs=1)]: Done  13 out of  13 | elapsed:   18.9s finished\n",
            "\n",
            "[2022-07-23 20:51:41] Features: 14/21 -- score: 0.8636431725007884[Parallel(n_jobs=1)]: Using backend SequentialBackend with 1 concurrent workers.\n",
            "[Parallel(n_jobs=1)]: Done   1 out of   1 | elapsed:    1.6s remaining:    0.0s\n",
            "[Parallel(n_jobs=1)]: Done   7 out of   7 | elapsed:   10.9s finished\n",
            "[Parallel(n_jobs=1)]: Using backend SequentialBackend with 1 concurrent workers.\n",
            "[Parallel(n_jobs=1)]: Done   1 out of   1 | elapsed:    1.5s remaining:    0.0s\n",
            "[Parallel(n_jobs=1)]: Done  14 out of  14 | elapsed:   21.2s finished\n",
            "[Parallel(n_jobs=1)]: Using backend SequentialBackend with 1 concurrent workers.\n",
            "[Parallel(n_jobs=1)]: Done   1 out of   1 | elapsed:    1.5s remaining:    0.0s\n",
            "[Parallel(n_jobs=1)]: Done  13 out of  13 | elapsed:   19.4s finished\n",
            "[Parallel(n_jobs=1)]: Using backend SequentialBackend with 1 concurrent workers.\n",
            "[Parallel(n_jobs=1)]: Done   1 out of   1 | elapsed:    1.4s remaining:    0.0s\n",
            "[Parallel(n_jobs=1)]: Done  12 out of  12 | elapsed:   16.8s finished\n",
            "\n",
            "[2022-07-23 20:52:49] Features: 13/21 -- score: 0.8637574897508672[Parallel(n_jobs=1)]: Using backend SequentialBackend with 1 concurrent workers.\n",
            "[Parallel(n_jobs=1)]: Done   1 out of   1 | elapsed:    1.6s remaining:    0.0s\n",
            "[Parallel(n_jobs=1)]: Done   8 out of   8 | elapsed:   12.6s finished\n",
            "[Parallel(n_jobs=1)]: Using backend SequentialBackend with 1 concurrent workers.\n",
            "[Parallel(n_jobs=1)]: Done   1 out of   1 | elapsed:    1.6s remaining:    0.0s\n",
            "[Parallel(n_jobs=1)]: Done  13 out of  13 | elapsed:   19.8s finished\n",
            "[Parallel(n_jobs=1)]: Using backend SequentialBackend with 1 concurrent workers.\n",
            "[Parallel(n_jobs=1)]: Done   1 out of   1 | elapsed:    1.5s remaining:    0.0s\n",
            "[Parallel(n_jobs=1)]: Done  12 out of  12 | elapsed:   17.2s finished\n",
            "\n",
            "[2022-07-23 20:53:39] Features: 13/21 -- score: 0.8637653736991485[Parallel(n_jobs=1)]: Using backend SequentialBackend with 1 concurrent workers.\n",
            "[Parallel(n_jobs=1)]: Done   1 out of   1 | elapsed:    1.6s remaining:    0.0s\n",
            "[Parallel(n_jobs=1)]: Done   8 out of   8 | elapsed:   12.4s finished\n",
            "[Parallel(n_jobs=1)]: Using backend SequentialBackend with 1 concurrent workers.\n",
            "[Parallel(n_jobs=1)]: Done   1 out of   1 | elapsed:    1.6s remaining:    0.0s\n",
            "[Parallel(n_jobs=1)]: Done  13 out of  13 | elapsed:   19.8s finished\n",
            "\n",
            "[2022-07-23 20:54:11] Features: 14/21 -- score: 0.8637298959318827[Parallel(n_jobs=1)]: Using backend SequentialBackend with 1 concurrent workers.\n",
            "[Parallel(n_jobs=1)]: Done   1 out of   1 | elapsed:    1.6s remaining:    0.0s\n",
            "[Parallel(n_jobs=1)]: Done   7 out of   7 | elapsed:   11.1s finished\n",
            "[Parallel(n_jobs=1)]: Using backend SequentialBackend with 1 concurrent workers.\n",
            "[Parallel(n_jobs=1)]: Done   1 out of   1 | elapsed:    1.6s remaining:    0.0s\n",
            "[Parallel(n_jobs=1)]: Done  14 out of  14 | elapsed:   21.9s finished\n",
            "\n",
            "[2022-07-23 20:54:44] Features: 15/21 -- score: 0.8636983601387574[Parallel(n_jobs=1)]: Using backend SequentialBackend with 1 concurrent workers.\n",
            "[Parallel(n_jobs=1)]: Done   1 out of   1 | elapsed:    3.0s remaining:    0.0s\n",
            "[Parallel(n_jobs=1)]: Done   6 out of   6 | elapsed:   12.0s finished\n",
            "[Parallel(n_jobs=1)]: Using backend SequentialBackend with 1 concurrent workers.\n",
            "[Parallel(n_jobs=1)]: Done   1 out of   1 | elapsed:    1.7s remaining:    0.0s\n",
            "[Parallel(n_jobs=1)]: Done  15 out of  15 | elapsed:   23.8s finished\n",
            "\n",
            "[2022-07-23 20:55:20] Features: 16/21 -- score: 0.863658940397351[Parallel(n_jobs=1)]: Using backend SequentialBackend with 1 concurrent workers.\n",
            "[Parallel(n_jobs=1)]: Done   1 out of   1 | elapsed:    1.6s remaining:    0.0s\n",
            "[Parallel(n_jobs=1)]: Done   5 out of   5 | elapsed:    8.1s finished\n",
            "[Parallel(n_jobs=1)]: Using backend SequentialBackend with 1 concurrent workers.\n",
            "[Parallel(n_jobs=1)]: Done   1 out of   1 | elapsed:    1.4s remaining:    0.0s\n",
            "[Parallel(n_jobs=1)]: Done  16 out of  16 | elapsed:   23.1s finished\n",
            "[Parallel(n_jobs=1)]: Using backend SequentialBackend with 1 concurrent workers.\n",
            "[Parallel(n_jobs=1)]: Done   1 out of   1 | elapsed:    1.6s remaining:    0.0s\n",
            "[Parallel(n_jobs=1)]: Done  15 out of  15 | elapsed:   23.1s finished\n",
            "[Parallel(n_jobs=1)]: Using backend SequentialBackend with 1 concurrent workers.\n",
            "[Parallel(n_jobs=1)]: Done   1 out of   1 | elapsed:    1.6s remaining:    0.0s\n",
            "[Parallel(n_jobs=1)]: Done  14 out of  14 | elapsed:   21.7s finished\n",
            "\n",
            "[2022-07-23 20:56:36] Features: 15/21 -- score: 0.8637298959318827[Parallel(n_jobs=1)]: Using backend SequentialBackend with 1 concurrent workers.\n",
            "[Parallel(n_jobs=1)]: Done   1 out of   1 | elapsed:    1.5s remaining:    0.0s\n",
            "[Parallel(n_jobs=1)]: Done   6 out of   6 | elapsed:    8.7s finished\n",
            "[Parallel(n_jobs=1)]: Using backend SequentialBackend with 1 concurrent workers.\n",
            "[Parallel(n_jobs=1)]: Done   1 out of   1 | elapsed:    1.6s remaining:    0.0s\n",
            "[Parallel(n_jobs=1)]: Done  15 out of  15 | elapsed:   23.2s finished\n",
            "\n",
            "[2022-07-23 20:57:08] Features: 16/21 -- score: 0.8637259539577421[Parallel(n_jobs=1)]: Using backend SequentialBackend with 1 concurrent workers.\n",
            "[Parallel(n_jobs=1)]: Done   1 out of   1 | elapsed:    1.7s remaining:    0.0s\n",
            "[Parallel(n_jobs=1)]: Done   5 out of   5 | elapsed:    8.2s finished\n",
            "[Parallel(n_jobs=1)]: Using backend SequentialBackend with 1 concurrent workers.\n",
            "[Parallel(n_jobs=1)]: Done   1 out of   1 | elapsed:    1.4s remaining:    0.0s\n",
            "[Parallel(n_jobs=1)]: Done  16 out of  16 | elapsed:   23.1s finished\n",
            "\n",
            "[2022-07-23 20:57:39] Features: 17/21 -- score: 0.8636510564490697[Parallel(n_jobs=1)]: Using backend SequentialBackend with 1 concurrent workers.\n",
            "[Parallel(n_jobs=1)]: Done   1 out of   1 | elapsed:    1.6s remaining:    0.0s\n",
            "[Parallel(n_jobs=1)]: Done   4 out of   4 | elapsed:    6.5s finished\n",
            "[Parallel(n_jobs=1)]: Using backend SequentialBackend with 1 concurrent workers.\n",
            "[Parallel(n_jobs=1)]: Done   1 out of   1 | elapsed:    1.7s remaining:    0.0s\n",
            "[Parallel(n_jobs=1)]: Done  17 out of  17 | elapsed:   28.6s finished\n",
            "\n",
            "[2022-07-23 20:58:14] Features: 18/21 -- score: 0.8635761589403973[Parallel(n_jobs=1)]: Using backend SequentialBackend with 1 concurrent workers.\n",
            "[Parallel(n_jobs=1)]: Done   1 out of   1 | elapsed:    1.8s remaining:    0.0s\n",
            "[Parallel(n_jobs=1)]: Done   3 out of   3 | elapsed:    5.1s finished\n",
            "[Parallel(n_jobs=1)]: Using backend SequentialBackend with 1 concurrent workers.\n",
            "[Parallel(n_jobs=1)]: Done   1 out of   1 | elapsed:    1.6s remaining:    0.0s\n",
            "[Parallel(n_jobs=1)]: Done  18 out of  18 | elapsed:   29.3s finished\n",
            "[Parallel(n_jobs=1)]: Using backend SequentialBackend with 1 concurrent workers.\n",
            "[Parallel(n_jobs=1)]: Done   1 out of   1 | elapsed:    1.6s remaining:    0.0s\n",
            "[Parallel(n_jobs=1)]: Done  17 out of  17 | elapsed:   27.2s finished\n",
            "\n",
            "[2022-07-23 20:59:16] Features: 18/21 -- score: 0.8636431725007885[Parallel(n_jobs=1)]: Using backend SequentialBackend with 1 concurrent workers.\n",
            "[Parallel(n_jobs=1)]: Done   1 out of   1 | elapsed:    1.7s remaining:    0.0s\n",
            "[Parallel(n_jobs=1)]: Done   3 out of   3 | elapsed:    5.1s finished\n",
            "[Parallel(n_jobs=1)]: Using backend SequentialBackend with 1 concurrent workers.\n",
            "[Parallel(n_jobs=1)]: Done   1 out of   1 | elapsed:    1.6s remaining:    0.0s\n",
            "[Parallel(n_jobs=1)]: Done  18 out of  18 | elapsed:   29.3s finished\n",
            "\n",
            "[2022-07-23 20:59:50] Features: 19/21 -- score: 0.8635249132765689[Parallel(n_jobs=1)]: Using backend SequentialBackend with 1 concurrent workers.\n",
            "[Parallel(n_jobs=1)]: Done   1 out of   1 | elapsed:    1.7s remaining:    0.0s\n",
            "[Parallel(n_jobs=1)]: Done   2 out of   2 | elapsed:    3.3s finished\n",
            "[Parallel(n_jobs=1)]: Using backend SequentialBackend with 1 concurrent workers.\n",
            "[Parallel(n_jobs=1)]: Done   1 out of   1 | elapsed:    1.6s remaining:    0.0s\n",
            "[Parallel(n_jobs=1)]: Done  19 out of  19 | elapsed:   31.4s finished\n",
            "\n",
            "[2022-07-23 21:00:25] Features: 20/21 -- score: 0.8633987701040682[Parallel(n_jobs=1)]: Using backend SequentialBackend with 1 concurrent workers.\n",
            "[Parallel(n_jobs=1)]: Done   1 out of   1 | elapsed:    1.9s remaining:    0.0s\n",
            "[Parallel(n_jobs=1)]: Done   1 out of   1 | elapsed:    1.9s finished\n",
            "[Parallel(n_jobs=1)]: Using backend SequentialBackend with 1 concurrent workers.\n",
            "[Parallel(n_jobs=1)]: Done   1 out of   1 | elapsed:    1.7s remaining:    0.0s\n",
            "[Parallel(n_jobs=1)]: Done  20 out of  20 | elapsed:   33.3s finished\n",
            "\n",
            "[2022-07-23 21:01:00] Features: 21/21 -- score: 0.8629690949227373"
          ]
        }
      ]
    },
    {
      "cell_type": "code",
      "source": [
        "info = pd.DataFrame.from_dict(sfs.get_metric_dict()).T\n",
        "info.head()"
      ],
      "metadata": {
        "colab": {
          "base_uri": "https://localhost:8080/",
          "height": 206
        },
        "id": "2enOI34frEpl",
        "outputId": "00aa545f-91eb-4e5b-863d-5d88de3d35c3"
      },
      "execution_count": 8,
      "outputs": [
        {
          "output_type": "execute_result",
          "data": {
            "text/plain": [
              "         feature_idx                                          cv_scores  \\\n",
              "1               (0,)  [0.8606669820245979, 0.8606669820245979, 0.860...   \n",
              "2             (0, 1)  [0.8606669820245979, 0.8606669820245979, 0.860...   \n",
              "3         (0, 1, 13)  [0.8610572374645222, 0.8610217596972564, 0.860...   \n",
              "4      (0, 1, 3, 13)  [0.8614001892147588, 0.8637653736991485, 0.863...   \n",
              "5  (0, 1, 3, 13, 14)  [0.8613883632923368, 0.863883632923368, 0.8640...   \n",
              "\n",
              "  avg_score      feature_names  ci_bound   std_dev   std_err  \n",
              "1  0.860667               (0,)       0.0       0.0       0.0  \n",
              "2  0.860667             (0, 1)       0.0       0.0       0.0  \n",
              "3  0.860738         (0, 1, 13)   0.00096  0.000427  0.000302  \n",
              "4  0.862859      (0, 1, 3, 13)  0.002344  0.001041  0.000736  \n",
              "5  0.863107  (0, 1, 3, 13, 14)  0.002739  0.001217  0.000861  "
            ],
            "text/html": [
              "\n",
              "  <div id=\"df-e6c8377f-b6be-4a0b-b748-664072e780fb\">\n",
              "    <div class=\"colab-df-container\">\n",
              "      <div>\n",
              "<style scoped>\n",
              "    .dataframe tbody tr th:only-of-type {\n",
              "        vertical-align: middle;\n",
              "    }\n",
              "\n",
              "    .dataframe tbody tr th {\n",
              "        vertical-align: top;\n",
              "    }\n",
              "\n",
              "    .dataframe thead th {\n",
              "        text-align: right;\n",
              "    }\n",
              "</style>\n",
              "<table border=\"1\" class=\"dataframe\">\n",
              "  <thead>\n",
              "    <tr style=\"text-align: right;\">\n",
              "      <th></th>\n",
              "      <th>feature_idx</th>\n",
              "      <th>cv_scores</th>\n",
              "      <th>avg_score</th>\n",
              "      <th>feature_names</th>\n",
              "      <th>ci_bound</th>\n",
              "      <th>std_dev</th>\n",
              "      <th>std_err</th>\n",
              "    </tr>\n",
              "  </thead>\n",
              "  <tbody>\n",
              "    <tr>\n",
              "      <th>1</th>\n",
              "      <td>(0,)</td>\n",
              "      <td>[0.8606669820245979, 0.8606669820245979, 0.860...</td>\n",
              "      <td>0.860667</td>\n",
              "      <td>(0,)</td>\n",
              "      <td>0.0</td>\n",
              "      <td>0.0</td>\n",
              "      <td>0.0</td>\n",
              "    </tr>\n",
              "    <tr>\n",
              "      <th>2</th>\n",
              "      <td>(0, 1)</td>\n",
              "      <td>[0.8606669820245979, 0.8606669820245979, 0.860...</td>\n",
              "      <td>0.860667</td>\n",
              "      <td>(0, 1)</td>\n",
              "      <td>0.0</td>\n",
              "      <td>0.0</td>\n",
              "      <td>0.0</td>\n",
              "    </tr>\n",
              "    <tr>\n",
              "      <th>3</th>\n",
              "      <td>(0, 1, 13)</td>\n",
              "      <td>[0.8610572374645222, 0.8610217596972564, 0.860...</td>\n",
              "      <td>0.860738</td>\n",
              "      <td>(0, 1, 13)</td>\n",
              "      <td>0.00096</td>\n",
              "      <td>0.000427</td>\n",
              "      <td>0.000302</td>\n",
              "    </tr>\n",
              "    <tr>\n",
              "      <th>4</th>\n",
              "      <td>(0, 1, 3, 13)</td>\n",
              "      <td>[0.8614001892147588, 0.8637653736991485, 0.863...</td>\n",
              "      <td>0.862859</td>\n",
              "      <td>(0, 1, 3, 13)</td>\n",
              "      <td>0.002344</td>\n",
              "      <td>0.001041</td>\n",
              "      <td>0.000736</td>\n",
              "    </tr>\n",
              "    <tr>\n",
              "      <th>5</th>\n",
              "      <td>(0, 1, 3, 13, 14)</td>\n",
              "      <td>[0.8613883632923368, 0.863883632923368, 0.8640...</td>\n",
              "      <td>0.863107</td>\n",
              "      <td>(0, 1, 3, 13, 14)</td>\n",
              "      <td>0.002739</td>\n",
              "      <td>0.001217</td>\n",
              "      <td>0.000861</td>\n",
              "    </tr>\n",
              "  </tbody>\n",
              "</table>\n",
              "</div>\n",
              "      <button class=\"colab-df-convert\" onclick=\"convertToInteractive('df-e6c8377f-b6be-4a0b-b748-664072e780fb')\"\n",
              "              title=\"Convert this dataframe to an interactive table.\"\n",
              "              style=\"display:none;\">\n",
              "        \n",
              "  <svg xmlns=\"http://www.w3.org/2000/svg\" height=\"24px\"viewBox=\"0 0 24 24\"\n",
              "       width=\"24px\">\n",
              "    <path d=\"M0 0h24v24H0V0z\" fill=\"none\"/>\n",
              "    <path d=\"M18.56 5.44l.94 2.06.94-2.06 2.06-.94-2.06-.94-.94-2.06-.94 2.06-2.06.94zm-11 1L8.5 8.5l.94-2.06 2.06-.94-2.06-.94L8.5 2.5l-.94 2.06-2.06.94zm10 10l.94 2.06.94-2.06 2.06-.94-2.06-.94-.94-2.06-.94 2.06-2.06.94z\"/><path d=\"M17.41 7.96l-1.37-1.37c-.4-.4-.92-.59-1.43-.59-.52 0-1.04.2-1.43.59L10.3 9.45l-7.72 7.72c-.78.78-.78 2.05 0 2.83L4 21.41c.39.39.9.59 1.41.59.51 0 1.02-.2 1.41-.59l7.78-7.78 2.81-2.81c.8-.78.8-2.07 0-2.86zM5.41 20L4 18.59l7.72-7.72 1.47 1.35L5.41 20z\"/>\n",
              "  </svg>\n",
              "      </button>\n",
              "      \n",
              "  <style>\n",
              "    .colab-df-container {\n",
              "      display:flex;\n",
              "      flex-wrap:wrap;\n",
              "      gap: 12px;\n",
              "    }\n",
              "\n",
              "    .colab-df-convert {\n",
              "      background-color: #E8F0FE;\n",
              "      border: none;\n",
              "      border-radius: 50%;\n",
              "      cursor: pointer;\n",
              "      display: none;\n",
              "      fill: #1967D2;\n",
              "      height: 32px;\n",
              "      padding: 0 0 0 0;\n",
              "      width: 32px;\n",
              "    }\n",
              "\n",
              "    .colab-df-convert:hover {\n",
              "      background-color: #E2EBFA;\n",
              "      box-shadow: 0px 1px 2px rgba(60, 64, 67, 0.3), 0px 1px 3px 1px rgba(60, 64, 67, 0.15);\n",
              "      fill: #174EA6;\n",
              "    }\n",
              "\n",
              "    [theme=dark] .colab-df-convert {\n",
              "      background-color: #3B4455;\n",
              "      fill: #D2E3FC;\n",
              "    }\n",
              "\n",
              "    [theme=dark] .colab-df-convert:hover {\n",
              "      background-color: #434B5C;\n",
              "      box-shadow: 0px 1px 3px 1px rgba(0, 0, 0, 0.15);\n",
              "      filter: drop-shadow(0px 1px 2px rgba(0, 0, 0, 0.3));\n",
              "      fill: #FFFFFF;\n",
              "    }\n",
              "  </style>\n",
              "\n",
              "      <script>\n",
              "        const buttonEl =\n",
              "          document.querySelector('#df-e6c8377f-b6be-4a0b-b748-664072e780fb button.colab-df-convert');\n",
              "        buttonEl.style.display =\n",
              "          google.colab.kernel.accessAllowed ? 'block' : 'none';\n",
              "\n",
              "        async function convertToInteractive(key) {\n",
              "          const element = document.querySelector('#df-e6c8377f-b6be-4a0b-b748-664072e780fb');\n",
              "          const dataTable =\n",
              "            await google.colab.kernel.invokeFunction('convertToInteractive',\n",
              "                                                     [key], {});\n",
              "          if (!dataTable) return;\n",
              "\n",
              "          const docLinkHtml = 'Like what you see? Visit the ' +\n",
              "            '<a target=\"_blank\" href=https://colab.research.google.com/notebooks/data_table.ipynb>data table notebook</a>'\n",
              "            + ' to learn more about interactive tables.';\n",
              "          element.innerHTML = '';\n",
              "          dataTable['output_type'] = 'display_data';\n",
              "          await google.colab.output.renderOutput(dataTable, element);\n",
              "          const docLink = document.createElement('div');\n",
              "          docLink.innerHTML = docLinkHtml;\n",
              "          element.appendChild(docLink);\n",
              "        }\n",
              "      </script>\n",
              "    </div>\n",
              "  </div>\n",
              "  "
            ]
          },
          "metadata": {},
          "execution_count": 8
        }
      ]
    },
    {
      "cell_type": "code",
      "source": [
        "list_f = X.columns[[sfs.k_feature_idx_]]\n",
        "list_f"
      ],
      "metadata": {
        "colab": {
          "base_uri": "https://localhost:8080/"
        },
        "id": "cRCL5Aydsl7O",
        "outputId": "b589677c-a820-4623-8658-83cd59c18d0b"
      },
      "execution_count": 9,
      "outputs": [
        {
          "output_type": "stream",
          "name": "stderr",
          "text": [
            "/usr/local/lib/python3.7/dist-packages/pandas/core/indexes/base.py:4616: FutureWarning: Using a non-tuple sequence for multidimensional indexing is deprecated; use `arr[tuple(seq)]` instead of `arr[seq]`. In the future this will be interpreted as an array index, `arr[np.array(seq)]`, which will result either in an error or a different result.\n",
            "  result = getitem(key)\n"
          ]
        },
        {
          "output_type": "execute_result",
          "data": {
            "text/plain": [
              "Index(['HighBP', 'HighChol', 'CholCheck', 'BMI', 'Stroke',\n",
              "       'HeartDiseaseorAttack', 'PhysActivity', 'HvyAlcoholConsump',\n",
              "       'NoDocbcCost', 'GenHlth', 'MentHlth', 'PhysHlth', 'DiffWalk'],\n",
              "      dtype='object')"
            ]
          },
          "metadata": {},
          "execution_count": 9
        }
      ]
    },
    {
      "cell_type": "code",
      "source": [
        "sfs.k_score_"
      ],
      "metadata": {
        "colab": {
          "base_uri": "https://localhost:8080/"
        },
        "id": "_NNvQT6usvLM",
        "outputId": "871ce48f-1d5b-46a8-fc57-4fbd4c71c555"
      },
      "execution_count": 10,
      "outputs": [
        {
          "output_type": "execute_result",
          "data": {
            "text/plain": [
              "0.8637653736991485"
            ]
          },
          "metadata": {},
          "execution_count": 10
        }
      ]
    },
    {
      "cell_type": "code",
      "source": [
        "df_f = X[list_f]\n",
        "df_f.shape\n",
        "X_f =  df_f\n",
        "y = df['Diabetes_binary']\n",
        "X_train_f, X_test_f, y_train, y_test = train_test_split(X_f, y, test_size=0.3, random_state=42)"
      ],
      "metadata": {
        "id": "Lx1N05H5s--_"
      },
      "execution_count": 12,
      "outputs": []
    },
    {
      "cell_type": "code",
      "source": [
        "X_train_f = Scaler.fit_transform(X_train_f)\n",
        "X_test_f = Scaler.fit_transform(X_test_f) \n",
        "print(\"Shape of train set\",X_train_f.shape)\n",
        "print(\"Shape of test set\",X_test_f.shape)"
      ],
      "metadata": {
        "colab": {
          "base_uri": "https://localhost:8080/"
        },
        "id": "eDz4jvcvu3Wl",
        "outputId": "821e3921-c6ce-417b-ce91-5e5192789526"
      },
      "execution_count": 14,
      "outputs": [
        {
          "output_type": "stream",
          "name": "stdout",
          "text": [
            "Shape of train set (177576, 13)\n",
            "Shape of test set (76104, 13)\n"
          ]
        }
      ]
    },
    {
      "cell_type": "code",
      "source": [
        "clflr = LogisticRegression(max_iter = 130)\n",
        "clflr.fit(X_train_f, y_train)\n",
        "pred  = clflr.predict(X_test_f)\n",
        "print(\"Accuracy Score\",accuracy_score(y_test,pred))\n",
        "print(\"f1 Score\",f1_score(y_test,pred))\n",
        "print(\"Recall Score\", recall_score(y_test,pred))\n",
        "print('Precison Score', precision_score(y_test,pred))"
      ],
      "metadata": {
        "colab": {
          "base_uri": "https://localhost:8080/"
        },
        "id": "zH0KfkR_tHwE",
        "outputId": "8c39c6f5-ee6a-4dfe-e662-354d76fbdbef"
      },
      "execution_count": 15,
      "outputs": [
        {
          "output_type": "stream",
          "name": "stdout",
          "text": [
            "Accuracy Score 0.8649479659413434\n",
            "f1 Score 0.23606362420098118\n",
            "Recall Score 0.15125250023811793\n",
            "Precison Score 0.5373942470389171\n"
          ]
        }
      ]
    },
    {
      "cell_type": "code",
      "source": [
        "plt.figure(figsize = (5,4))\n",
        "cf_matrix = confusion_matrix(y_test, pred)\n",
        "sns.heatmap(cf_matrix, annot=True,fmt = 'd', cmap = 'Blues')\n",
        "plt.title('Confusion metrics for Logistic Regression on Test Set')"
      ],
      "metadata": {
        "colab": {
          "base_uri": "https://localhost:8080/",
          "height": 298
        },
        "id": "vCyB_2HmuWv-",
        "outputId": "90653e00-c6e5-491e-d593-1834d1b8f860"
      },
      "execution_count": 16,
      "outputs": [
        {
          "output_type": "execute_result",
          "data": {
            "text/plain": [
              "Text(0.5, 1.0, 'Confusion metrics for Logistic Regression on Test Set')"
            ]
          },
          "metadata": {},
          "execution_count": 16
        },
        {
          "output_type": "display_data",
          "data": {
            "text/plain": [
              "<Figure size 360x288 with 2 Axes>"
            ],
            "image/png": "[encoded data removed]"
          },
          "metadata": {
            "needs_background": "light"
          }
        }
      ]
    },
    {
      "cell_type": "code",
      "source": [
        "pred_train  = clflr.predict(X_train_f)\n",
        "print(\"Accuracy Score\",accuracy_score(y_train, pred_train))\n",
        "print(\"f1 Score\",f1_score(y_train, pred_train ))\n",
        "print(\"Recall Score\", recall_score(y_train, pred_train ))\n",
        "print('precison Score', precision_score(y_train, pred_train ))\n",
        "plt.figure(figsize = (5,4))\n",
        "cf_matrix = confusion_matrix(y_train, pred_train)\n",
        "sns.heatmap(cf_matrix, annot=True,fmt = 'd', cmap = 'Greens_r')\n",
        "plt.title('Confusion metrics for Logistic Regression on Train set')"
      ],
      "metadata": {
        "colab": {
          "base_uri": "https://localhost:8080/",
          "height": 368
        },
        "id": "FVvYTzQi37tq",
        "outputId": "d370c1a2-3e73-4e26-aabc-21ef64d9d679"
      },
      "execution_count": 18,
      "outputs": [
        {
          "output_type": "stream",
          "name": "stdout",
          "text": [
            "Accuracy Score 0.8634950669009326\n",
            "f1 Score 0.23682387758957243\n",
            "Recall Score 0.151366362136274\n",
            "precison Score 0.5438900939985538\n"
          ]
        },
        {
          "output_type": "execute_result",
          "data": {
            "text/plain": [
              "Text(0.5, 1.0, 'Confusion metrics for Logistic Regression on Train set')"
            ]
          },
          "metadata": {},
          "execution_count": 18
        },
        {
          "output_type": "display_data",
          "data": {
            "text/plain": [
              "<Figure size 360x288 with 2 Axes>"
            ],
            "image/png": "[encoded data removed]"
          },
          "metadata": {
            "needs_background": "light"
          }
        }
      ]
    },
    {
      "cell_type": "code",
      "source": [
        "fig1 = plot_sfs(sfs.get_metric_dict(), kind='std_dev')\n",
        "\n",
        "plt.ylim([0.8, 1])\n",
        "plt.title('Sequential Forward Selection (w. StdDev)')\n",
        "plt.grid()\n",
        "plt.show()"
      ],
      "metadata": {
        "colab": {
          "base_uri": "https://localhost:8080/",
          "height": 295
        },
        "id": "jFcWjkXpuy7i",
        "outputId": "ccd0e6d2-26bd-4313-f476-e0f22d20fcf9"
      },
      "execution_count": 17,
      "outputs": [
        {
          "output_type": "display_data",
          "data": {
            "text/plain": [
              "<Figure size 432x288 with 1 Axes>"
            ],
            "image/png": "[encoded data removed]"
          },
          "metadata": {
            "needs_background": "light"
          }
        }
      ]
    },
    {
      "cell_type": "code",
      "source": [
        " "
      ],
      "metadata": {
        "id": "chAAMycIvHE_"
      },
      "execution_count": 37,
      "outputs": []
    }
  ]
}