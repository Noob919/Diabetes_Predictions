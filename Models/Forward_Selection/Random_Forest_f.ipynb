{
  "nbformat": 4,
  "nbformat_minor": 0,
  "metadata": {
    "colab": {
      "name": "Random_Forest_f.ipynb",
      "provenance": [],
      "authorship_tag": "ABX9TyObHaYDLeq48mIsIWlZtsbK",
      "include_colab_link": true
    },
    "kernelspec": {
      "name": "python3",
      "display_name": "Python 3"
    },
    "language_info": {
      "name": "python"
    }
  },
  "cells": [
    {
      "cell_type": "markdown",
      "metadata": {
        "id": "view-in-github",
        "colab_type": "text"
      },
      "source": [
        "<a href=\"https://colab.research.google.com/github/Noob919/Diabetes_Predictions/blob/main/Models/Forward_Selection/Random_Forest_f.ipynb\" target=\"_parent\"><img src=\"https://colab.research.google.com/assets/colab-badge.svg\" alt=\"Open In Colab\"/></a>"
      ]
    },
    {
      "cell_type": "code",
      "execution_count": 2,
      "metadata": {
        "id": "0iG4P-8f9r-u"
      },
      "outputs": [],
      "source": [
        "import numpy as np\n",
        "import pandas as pd\n",
        "import matplotlib.pyplot as plt\n",
        "from sklearn.model_selection import train_test_split\n",
        "from sklearn.metrics import confusion_matrix\n",
        "from sklearn.metrics import accuracy_score,f1_score,precision_score,recall_score\n",
        "from sklearn.preprocessing import StandardScaler\n",
        "from sklearn.preprocessing import Normalizer\n",
        "import matplotlib.pyplot as plt\n",
        "from sklearn.metrics import f1_score\n",
        "from sklearn.metrics import confusion_matrix\n",
        "import seaborn as sns\n",
        "from sklearn.ensemble import RandomForestClassifier"
      ]
    },
    {
      "cell_type": "code",
      "source": [
        "path = \"https://raw.githubusercontent.com/Noob919/Diabetes_Predictions/main/DataUsed/diabetes_binary_health_indicators_BRFSS2015.csv\"\n",
        "df =  pd.read_csv(path)\n",
        "Scaler = StandardScaler()\n",
        "X =  df.drop('Diabetes_binary', axis =1)\n",
        "y = df['Diabetes_binary']\n",
        "X_scaler = Scaler.fit_transform(X)"
      ],
      "metadata": {
        "id": "yXCkj8MQ94Cl"
      },
      "execution_count": 3,
      "outputs": []
    },
    {
      "cell_type": "code",
      "source": [
        "clflr = RandomForestClassifier()"
      ],
      "metadata": {
        "id": "diGd4NMP9_Ox"
      },
      "execution_count": 4,
      "outputs": []
    },
    {
      "cell_type": "code",
      "source": [
        "!pip install mlxtend --upgrade --no-deps"
      ],
      "metadata": {
        "colab": {
          "base_uri": "https://localhost:8080/"
        },
        "id": "e_us7IkM-DS0",
        "outputId": "c0623217-de19-41e1-f14a-89865cb036b1"
      },
      "execution_count": 5,
      "outputs": [
        {
          "output_type": "stream",
          "name": "stdout",
          "text": [
            "Looking in indexes: https://pypi.org/simple, https://us-python.pkg.dev/colab-wheels/public/simple/\n",
            "Requirement already satisfied: mlxtend in /usr/local/lib/python3.7/dist-packages (0.20.0)\n"
          ]
        }
      ]
    },
    {
      "cell_type": "code",
      "source": [
        "from mlxtend.plotting import plot_sequential_feature_selection as plot_sfs\n",
        "from mlxtend.feature_selection import SequentialFeatureSelector as SFS"
      ],
      "metadata": {
        "id": "FxkzlMLL-GFY"
      },
      "execution_count": 6,
      "outputs": []
    },
    {
      "cell_type": "code",
      "source": [
        "sfs = SFS(clflr, \n",
        "           k_features= (1,21), \n",
        "           forward=True, \n",
        "           floating=False, \n",
        "           verbose=2,\n",
        "           scoring='accuracy',\n",
        "           cv=3).fit(X_scaler,y)"
      ],
      "metadata": {
        "colab": {
          "base_uri": "https://localhost:8080/"
        },
        "id": "zdhK-npb-Ibj",
        "outputId": "b66f33fb-17fc-407e-f2d9-40cc6908aaa0"
      },
      "execution_count": 7,
      "outputs": [
        {
          "output_type": "stream",
          "name": "stderr",
          "text": [
            "[Parallel(n_jobs=1)]: Using backend SequentialBackend with 1 concurrent workers.\n",
            "[Parallel(n_jobs=1)]: Done   1 out of   1 | elapsed:   18.1s remaining:    0.0s\n",
            "[Parallel(n_jobs=1)]: Done  21 out of  21 | elapsed:  3.8min finished\n",
            "\n",
            "[2022-07-23 21:48:57] Features: 1/21 -- score: 0.8606669820245979[Parallel(n_jobs=1)]: Using backend SequentialBackend with 1 concurrent workers.\n",
            "[Parallel(n_jobs=1)]: Done   1 out of   1 | elapsed:   10.8s remaining:    0.0s\n",
            "[Parallel(n_jobs=1)]: Done  20 out of  20 | elapsed:  3.8min finished\n",
            "\n",
            "[2022-07-23 21:52:47] Features: 2/21 -- score: 0.8606669820245979[Parallel(n_jobs=1)]: Using backend SequentialBackend with 1 concurrent workers.\n",
            "[Parallel(n_jobs=1)]: Done   1 out of   1 | elapsed:   11.1s remaining:    0.0s\n",
            "[Parallel(n_jobs=1)]: Done  19 out of  19 | elapsed:  4.1min finished\n",
            "\n",
            "[2022-07-23 21:56:51] Features: 3/21 -- score: 0.8616209397666351[Parallel(n_jobs=1)]: Using backend SequentialBackend with 1 concurrent workers.\n",
            "[Parallel(n_jobs=1)]: Done   1 out of   1 | elapsed:   20.4s remaining:    0.0s\n",
            "[Parallel(n_jobs=1)]: Done  18 out of  18 | elapsed:  6.8min finished\n",
            "\n",
            "[2022-07-23 22:03:37] Features: 4/21 -- score: 0.8641477451907916[Parallel(n_jobs=1)]: Using backend SequentialBackend with 1 concurrent workers.\n",
            "[Parallel(n_jobs=1)]: Done   1 out of   1 | elapsed:   24.9s remaining:    0.0s\n",
            "[Parallel(n_jobs=1)]: Done  17 out of  17 | elapsed:  7.8min finished\n",
            "\n",
            "[2022-07-23 22:11:24] Features: 5/21 -- score: 0.8640610217596972[Parallel(n_jobs=1)]: Using backend SequentialBackend with 1 concurrent workers.\n",
            "[Parallel(n_jobs=1)]: Done   1 out of   1 | elapsed:   27.9s remaining:    0.0s\n",
            "[Parallel(n_jobs=1)]: Done  16 out of  16 | elapsed:  7.6min finished\n",
            "\n",
            "[2022-07-23 22:18:59] Features: 6/21 -- score: 0.8639821822768843[Parallel(n_jobs=1)]: Using backend SequentialBackend with 1 concurrent workers.\n",
            "[Parallel(n_jobs=1)]: Done   1 out of   1 | elapsed:   28.6s remaining:    0.0s\n",
            "[Parallel(n_jobs=1)]: Done  15 out of  15 | elapsed:  7.4min finished\n",
            "\n",
            "[2022-07-23 22:26:22] Features: 7/21 -- score: 0.8637259539577421[Parallel(n_jobs=1)]: Using backend SequentialBackend with 1 concurrent workers.\n",
            "[Parallel(n_jobs=1)]: Done   1 out of   1 | elapsed:   29.4s remaining:    0.0s\n",
            "[Parallel(n_jobs=1)]: Done  14 out of  14 | elapsed:  7.1min finished\n",
            "\n",
            "[2022-07-23 22:33:26] Features: 8/21 -- score: 0.8627956480605486[Parallel(n_jobs=1)]: Using backend SequentialBackend with 1 concurrent workers.\n",
            "[Parallel(n_jobs=1)]: Done   1 out of   1 | elapsed:   34.1s remaining:    0.0s\n",
            "[Parallel(n_jobs=1)]: Done  13 out of  13 | elapsed:  7.8min finished\n",
            "\n",
            "[2022-07-23 22:41:11] Features: 9/21 -- score: 0.8617746767581206[Parallel(n_jobs=1)]: Using backend SequentialBackend with 1 concurrent workers.\n",
            "[Parallel(n_jobs=1)]: Done   1 out of   1 | elapsed:   36.5s remaining:    0.0s\n",
            "[Parallel(n_jobs=1)]: Done  12 out of  12 | elapsed:  7.3min finished\n",
            "\n",
            "[2022-07-23 22:48:27] Features: 10/21 -- score: 0.8602175969725638[Parallel(n_jobs=1)]: Using backend SequentialBackend with 1 concurrent workers.\n",
            "[Parallel(n_jobs=1)]: Done   1 out of   1 | elapsed:   36.7s remaining:    0.0s\n",
            "[Parallel(n_jobs=1)]: Done  11 out of  11 | elapsed:  6.8min finished\n",
            "\n",
            "[2022-07-23 22:55:16] Features: 11/21 -- score: 0.8586762850835697[Parallel(n_jobs=1)]: Using backend SequentialBackend with 1 concurrent workers.\n",
            "[Parallel(n_jobs=1)]: Done   1 out of   1 | elapsed:   40.7s remaining:    0.0s\n",
            "[Parallel(n_jobs=1)]: Done  10 out of  10 | elapsed:  6.8min finished\n",
            "\n",
            "[2022-07-23 23:02:04] Features: 12/21 -- score: 0.8566579943235572[Parallel(n_jobs=1)]: Using backend SequentialBackend with 1 concurrent workers.\n",
            "[Parallel(n_jobs=1)]: Done   1 out of   1 | elapsed:   40.4s remaining:    0.0s\n",
            "[Parallel(n_jobs=1)]: Done   9 out of   9 | elapsed:  6.5min finished\n",
            "\n",
            "[2022-07-23 23:08:32] Features: 13/21 -- score: 0.8545214443393251[Parallel(n_jobs=1)]: Using backend SequentialBackend with 1 concurrent workers.\n",
            "[Parallel(n_jobs=1)]: Done   1 out of   1 | elapsed:   47.3s remaining:    0.0s\n",
            "[Parallel(n_jobs=1)]: Done   8 out of   8 | elapsed:  6.4min finished\n",
            "\n",
            "[2022-07-23 23:14:53] Features: 14/21 -- score: 0.851486124251025[Parallel(n_jobs=1)]: Using backend SequentialBackend with 1 concurrent workers.\n",
            "[Parallel(n_jobs=1)]: Done   1 out of   1 | elapsed:   49.9s remaining:    0.0s\n",
            "[Parallel(n_jobs=1)]: Done   7 out of   7 | elapsed:  5.9min finished\n",
            "\n",
            "[2022-07-23 23:20:47] Features: 15/21 -- score: 0.8486873226111636[Parallel(n_jobs=1)]: Using backend SequentialBackend with 1 concurrent workers.\n",
            "[Parallel(n_jobs=1)]: Done   1 out of   1 | elapsed:   51.3s remaining:    0.0s\n",
            "[Parallel(n_jobs=1)]: Done   6 out of   6 | elapsed:  5.3min finished\n",
            "\n",
            "[2022-07-23 23:26:06] Features: 16/21 -- score: 0.8484310942920215[Parallel(n_jobs=1)]: Using backend SequentialBackend with 1 concurrent workers.\n",
            "[Parallel(n_jobs=1)]: Done   1 out of   1 | elapsed:   56.9s remaining:    0.0s\n",
            "[Parallel(n_jobs=1)]: Done   5 out of   5 | elapsed:  4.9min finished\n",
            "\n",
            "[2022-07-23 23:31:00] Features: 17/21 -- score: 0.8500275938189845[Parallel(n_jobs=1)]: Using backend SequentialBackend with 1 concurrent workers.\n",
            "[Parallel(n_jobs=1)]: Done   1 out of   1 | elapsed:  1.0min remaining:    0.0s\n",
            "[Parallel(n_jobs=1)]: Done   4 out of   4 | elapsed:  4.1min finished\n",
            "\n",
            "[2022-07-23 23:35:09] Features: 18/21 -- score: 0.8515846736045413[Parallel(n_jobs=1)]: Using backend SequentialBackend with 1 concurrent workers.\n",
            "[Parallel(n_jobs=1)]: Done   1 out of   1 | elapsed:  1.2min remaining:    0.0s\n",
            "[Parallel(n_jobs=1)]: Done   3 out of   3 | elapsed:  3.5min finished\n",
            "\n",
            "[2022-07-23 23:38:39] Features: 19/21 -- score: 0.8551009145380006[Parallel(n_jobs=1)]: Using backend SequentialBackend with 1 concurrent workers.\n",
            "[Parallel(n_jobs=1)]: Done   1 out of   1 | elapsed:  1.1min remaining:    0.0s\n",
            "[Parallel(n_jobs=1)]: Done   2 out of   2 | elapsed:  2.2min finished\n",
            "\n",
            "[2022-07-23 23:40:54] Features: 20/21 -- score: 0.8578839482812993[Parallel(n_jobs=1)]: Using backend SequentialBackend with 1 concurrent workers.\n",
            "[Parallel(n_jobs=1)]: Done   1 out of   1 | elapsed:  1.1min remaining:    0.0s\n",
            "[Parallel(n_jobs=1)]: Done   1 out of   1 | elapsed:  1.1min finished\n",
            "\n",
            "[2022-07-23 23:42:02] Features: 21/21 -- score: 0.8597524440239672"
          ]
        }
      ]
    },
    {
      "cell_type": "code",
      "source": [
        "list_f = X.columns[[sfs.k_feature_idx_]]\n",
        "list_f"
      ],
      "metadata": {
        "colab": {
          "base_uri": "https://localhost:8080/"
        },
        "id": "PxmDRmSe-LF4",
        "outputId": "7feda09f-886f-408f-fbbe-03f5c80c1391"
      },
      "execution_count": 8,
      "outputs": [
        {
          "output_type": "stream",
          "name": "stderr",
          "text": [
            "/usr/local/lib/python3.7/dist-packages/pandas/core/indexes/base.py:4616: FutureWarning: Using a non-tuple sequence for multidimensional indexing is deprecated; use `arr[tuple(seq)]` instead of `arr[seq]`. In the future this will be interpreted as an array index, `arr[np.array(seq)]`, which will result either in an error or a different result.\n",
            "  result = getitem(key)\n"
          ]
        },
        {
          "output_type": "execute_result",
          "data": {
            "text/plain": [
              "Index(['HighBP', 'HighChol', 'BMI', 'GenHlth'], dtype='object')"
            ]
          },
          "metadata": {},
          "execution_count": 8
        }
      ]
    },
    {
      "cell_type": "code",
      "source": [
        "sfs.k_score_"
      ],
      "metadata": {
        "colab": {
          "base_uri": "https://localhost:8080/"
        },
        "id": "D0Oid_PScP1z",
        "outputId": "721471aa-b3ca-46c6-9a74-1fd7110de808"
      },
      "execution_count": 9,
      "outputs": [
        {
          "output_type": "execute_result",
          "data": {
            "text/plain": [
              "0.8641477451907916"
            ]
          },
          "metadata": {},
          "execution_count": 9
        }
      ]
    },
    {
      "cell_type": "code",
      "source": [
        "df_f = X[list_f]\n",
        "df_f.shape\n",
        "X_f =  df_f\n",
        "y = df['Diabetes_binary']\n",
        "X_train_f, X_test_f, y_train, y_test = train_test_split(X_f, y, test_size=0.3, random_state=42)"
      ],
      "metadata": {
        "id": "GOBIiUHccSBp"
      },
      "execution_count": 10,
      "outputs": []
    },
    {
      "cell_type": "code",
      "source": [
        "X_train_f = Scaler.fit_transform(X_train_f)\n",
        "X_test_f = Scaler.fit_transform(X_test_f) \n",
        "print(\"Shape of train set\",X_train_f.shape)\n",
        "print(\"Shape of test set\",X_test_f.shape)"
      ],
      "metadata": {
        "colab": {
          "base_uri": "https://localhost:8080/"
        },
        "id": "MZk8inMfcWIW",
        "outputId": "a41e8bab-b27e-4bf4-b9c7-a7a563bad163"
      },
      "execution_count": 11,
      "outputs": [
        {
          "output_type": "stream",
          "name": "stdout",
          "text": [
            "Shape of train set (177576, 4)\n",
            "Shape of test set (76104, 4)\n"
          ]
        }
      ]
    },
    {
      "cell_type": "code",
      "source": [
        "clflr = RandomForestClassifier()\n",
        "clflr.fit(X_train_f, y_train)\n",
        "pred  = clflr.predict(X_test_f)\n",
        "print(\"Accuracy Score\",accuracy_score(y_test,pred))\n",
        "print(\"f1 Score\",f1_score(y_test,pred,zero_division=1))\n",
        "print(\"Recall Score\", recall_score(y_test,pred,zero_division=1))\n",
        "print('Precison Score', precision_score(y_test,pred, zero_division=1))"
      ],
      "metadata": {
        "colab": {
          "base_uri": "https://localhost:8080/"
        },
        "id": "yj_VdA0ZcX8u",
        "outputId": "3790fe56-a3f5-4131-e337-a8a58a69560e"
      },
      "execution_count": 13,
      "outputs": [
        {
          "output_type": "stream",
          "name": "stdout",
          "text": [
            "Accuracy Score 0.8651713444759802\n",
            "f1 Score 0.2007944543967599\n",
            "Recall Score 0.12277359748547481\n",
            "Precison Score 0.5508547008547009\n"
          ]
        }
      ]
    },
    {
      "cell_type": "code",
      "source": [
        "plt.figure(figsize = (5,4))\n",
        "cf_matrix = confusion_matrix(y_test, pred)\n",
        "sns.heatmap(cf_matrix, annot=True,fmt = 'd', cmap = 'Blues')\n",
        "plt.title('Confusion metrics for Random Forest on Test Set')"
      ],
      "metadata": {
        "colab": {
          "base_uri": "https://localhost:8080/",
          "height": 298
        },
        "id": "4cUlMm7YcaKF",
        "outputId": "52493e9b-e2dc-4b25-f66c-17a9408b7332"
      },
      "execution_count": 14,
      "outputs": [
        {
          "output_type": "execute_result",
          "data": {
            "text/plain": [
              "Text(0.5, 1.0, 'Confusion metrics for Random Forest on Test Set')"
            ]
          },
          "metadata": {},
          "execution_count": 14
        },
        {
          "output_type": "display_data",
          "data": {
            "text/plain": [
              "<Figure size 360x288 with 2 Axes>"
            ],
            "image/png": "[encoded data removed]"
          },
          "metadata": {
            "needs_background": "light"
          }
        }
      ]
    },
    {
      "cell_type": "code",
      "source": [
        "pred_train  = clflr.predict(X_train_f)\n",
        "print(\"Accuracy Score\",accuracy_score(y_train, pred_train))\n",
        "print(\"f1 Score\",f1_score(y_train, pred_train ))\n",
        "print(\"Recall Score\", recall_score(y_train, pred_train ))\n",
        "print('precison Score', precision_score(y_train, pred_train ))\n",
        "plt.figure(figsize = (5,4))\n",
        "cf_matrix = confusion_matrix(y_train, pred_train)\n",
        "sns.heatmap(cf_matrix, annot=True,fmt = 'd', cmap = 'Greens_r')\n",
        "plt.title('Confusion metrics for Random Forest on Train set')"
      ],
      "metadata": {
        "colab": {
          "base_uri": "https://localhost:8080/",
          "height": 368
        },
        "id": "QMni3SaHckmr",
        "outputId": "5fdc0051-2e1c-4499-e475-bf3ac9330804"
      },
      "execution_count": 15,
      "outputs": [
        {
          "output_type": "stream",
          "name": "stdout",
          "text": [
            "Accuracy Score 0.8657983060773978\n",
            "f1 Score 0.21362811417257876\n",
            "Recall Score 0.13027729705799493\n",
            "precison Score 0.5930743862220593\n"
          ]
        },
        {
          "output_type": "execute_result",
          "data": {
            "text/plain": [
              "Text(0.5, 1.0, 'Confusion metrics for Random Forest on Train set')"
            ]
          },
          "metadata": {},
          "execution_count": 15
        },
        {
          "output_type": "display_data",
          "data": {
            "text/plain": [
              "<Figure size 360x288 with 2 Axes>"
            ],
            "image/png": "[encoded data removed]"
          },
          "metadata": {
            "needs_background": "light"
          }
        }
      ]
    },
    {
      "cell_type": "code",
      "source": [
        "fig1 = plot_sfs(sfs.get_metric_dict(), kind='std_dev')\n",
        "\n",
        "plt.ylim([0.8, 1])\n",
        "plt.title('Sequential Forward Selection (w. StdDev)')\n",
        "plt.grid()\n",
        "plt.show()"
      ],
      "metadata": {
        "colab": {
          "base_uri": "https://localhost:8080/",
          "height": 295
        },
        "id": "io7BwVMwctAR",
        "outputId": "f972580d-637f-4f4d-9987-17af16e2e5b0"
      },
      "execution_count": 16,
      "outputs": [
        {
          "output_type": "display_data",
          "data": {
            "text/plain": [
              "<Figure size 432x288 with 1 Axes>"
            ],
            "image/png": "[encoded data removed]"
          },
          "metadata": {
            "needs_background": "light"
          }
        }
      ]
    },
    {
      "cell_type": "code",
      "source": [
        ""
      ],
      "metadata": {
        "id": "L9BD6h6fczem"
      },
      "execution_count": null,
      "outputs": []
    }
  ]
}