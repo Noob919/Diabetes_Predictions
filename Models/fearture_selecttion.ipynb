{
  "nbformat": 4,
  "nbformat_minor": 0,
  "metadata": {
    "colab": {
      "name": "fearture_selecttion.ipynb",
      "provenance": [],
      "mount_file_id": "1ko-Tst31G1-WtpFFz5l_mHY8XAjxHQsr",
      "authorship_tag": "ABX9TyM59VzKSASaFBpAkcvhdyZf",
      "include_colab_link": true
    },
    "kernelspec": {
      "name": "python3",
      "display_name": "Python 3"
    },
    "language_info": {
      "name": "python"
    }
  },
  "cells": [
    {
      "cell_type": "markdown",
      "metadata": {
        "id": "view-in-github",
        "colab_type": "text"
      },
      "source": [
        "<a href=\"https://colab.research.google.com/github/Noob919/Diabetes_Predictions/blob/main/Models/fearture_selecttion.ipynb\" target=\"_parent\"><img src=\"https://colab.research.google.com/assets/colab-badge.svg\" alt=\"Open In Colab\"/></a>"
      ]
    },
    {
      "cell_type": "code",
      "source": [
        "import numpy as np\n",
        "import pandas as pd\n",
        "from sklearn.model_selection import train_test_split\n",
        "from sklearn.metrics import confusion_matrix\n",
        "from sklearn.metrics import accuracy_score,f1_score,precision_score,recall_score\n",
        "from sklearn.preprocessing import StandardScaler\n",
        "from sklearn.preprocessing import Normalizer\n",
        "import matplotlib.pyplot as plt\n",
        "from sklearn.metrics import f1_score\n",
        "from sklearn.metrics import confusion_matrix\n",
        "import seaborn as sns\n",
        "from sklearn.tree import DecisionTreeClassifier\n"
      ],
      "metadata": {
        "id": "mmyo2r6CmfSf"
      },
      "execution_count": 1,
      "outputs": []
    },
    {
      "cell_type": "code",
      "source": [
        "path = \"https://raw.githubusercontent.com/Noob919/Diabetes_Predictions/main/DataUsed/diabetes_binary_health_indicators_BRFSS2015.csv\"\n",
        "df =  pd.read_csv(path)\n",
        "df.head(2)"
      ],
      "metadata": {
        "colab": {
          "base_uri": "https://localhost:8080/",
          "height": 205
        },
        "id": "MTEqckhumwvR",
        "outputId": "c0b3a004-3ff3-42e6-a3d1-c4f97b69030e"
      },
      "execution_count": 2,
      "outputs": [
        {
          "output_type": "execute_result",
          "data": {
            "text/plain": [
              "   Diabetes_binary  HighBP  HighChol  CholCheck   BMI  Smoker  Stroke  \\\n",
              "0              0.0     1.0       1.0        1.0  40.0     1.0     0.0   \n",
              "1              0.0     0.0       0.0        0.0  25.0     1.0     0.0   \n",
              "\n",
              "   HeartDiseaseorAttack  PhysActivity  Fruits  ...  AnyHealthcare  \\\n",
              "0                   0.0           0.0     0.0  ...            1.0   \n",
              "1                   0.0           1.0     0.0  ...            0.0   \n",
              "\n",
              "   NoDocbcCost  GenHlth  MentHlth  PhysHlth  DiffWalk  Sex  Age  Education  \\\n",
              "0          0.0      5.0      18.0      15.0       1.0  0.0  9.0        4.0   \n",
              "1          1.0      3.0       0.0       0.0       0.0  0.0  7.0        6.0   \n",
              "\n",
              "   Income  \n",
              "0     3.0  \n",
              "1     1.0  \n",
              "\n",
              "[2 rows x 22 columns]"
            ],
            "text/html": [
              "\n",
              "  <div id=\"df-236019bb-a3a6-411c-b6da-5ed1e29ad367\">\n",
              "    <div class=\"colab-df-container\">\n",
              "      <div>\n",
              "<style scoped>\n",
              "    .dataframe tbody tr th:only-of-type {\n",
              "        vertical-align: middle;\n",
              "    }\n",
              "\n",
              "    .dataframe tbody tr th {\n",
              "        vertical-align: top;\n",
              "    }\n",
              "\n",
              "    .dataframe thead th {\n",
              "        text-align: right;\n",
              "    }\n",
              "</style>\n",
              "<table border=\"1\" class=\"dataframe\">\n",
              "  <thead>\n",
              "    <tr style=\"text-align: right;\">\n",
              "      <th></th>\n",
              "      <th>Diabetes_binary</th>\n",
              "      <th>HighBP</th>\n",
              "      <th>HighChol</th>\n",
              "      <th>CholCheck</th>\n",
              "      <th>BMI</th>\n",
              "      <th>Smoker</th>\n",
              "      <th>Stroke</th>\n",
              "      <th>HeartDiseaseorAttack</th>\n",
              "      <th>PhysActivity</th>\n",
              "      <th>Fruits</th>\n",
              "      <th>...</th>\n",
              "      <th>AnyHealthcare</th>\n",
              "      <th>NoDocbcCost</th>\n",
              "      <th>GenHlth</th>\n",
              "      <th>MentHlth</th>\n",
              "      <th>PhysHlth</th>\n",
              "      <th>DiffWalk</th>\n",
              "      <th>Sex</th>\n",
              "      <th>Age</th>\n",
              "      <th>Education</th>\n",
              "      <th>Income</th>\n",
              "    </tr>\n",
              "  </thead>\n",
              "  <tbody>\n",
              "    <tr>\n",
              "      <th>0</th>\n",
              "      <td>0.0</td>\n",
              "      <td>1.0</td>\n",
              "      <td>1.0</td>\n",
              "      <td>1.0</td>\n",
              "      <td>40.0</td>\n",
              "      <td>1.0</td>\n",
              "      <td>0.0</td>\n",
              "      <td>0.0</td>\n",
              "      <td>0.0</td>\n",
              "      <td>0.0</td>\n",
              "      <td>...</td>\n",
              "      <td>1.0</td>\n",
              "      <td>0.0</td>\n",
              "      <td>5.0</td>\n",
              "      <td>18.0</td>\n",
              "      <td>15.0</td>\n",
              "      <td>1.0</td>\n",
              "      <td>0.0</td>\n",
              "      <td>9.0</td>\n",
              "      <td>4.0</td>\n",
              "      <td>3.0</td>\n",
              "    </tr>\n",
              "    <tr>\n",
              "      <th>1</th>\n",
              "      <td>0.0</td>\n",
              "      <td>0.0</td>\n",
              "      <td>0.0</td>\n",
              "      <td>0.0</td>\n",
              "      <td>25.0</td>\n",
              "      <td>1.0</td>\n",
              "      <td>0.0</td>\n",
              "      <td>0.0</td>\n",
              "      <td>1.0</td>\n",
              "      <td>0.0</td>\n",
              "      <td>...</td>\n",
              "      <td>0.0</td>\n",
              "      <td>1.0</td>\n",
              "      <td>3.0</td>\n",
              "      <td>0.0</td>\n",
              "      <td>0.0</td>\n",
              "      <td>0.0</td>\n",
              "      <td>0.0</td>\n",
              "      <td>7.0</td>\n",
              "      <td>6.0</td>\n",
              "      <td>1.0</td>\n",
              "    </tr>\n",
              "  </tbody>\n",
              "</table>\n",
              "<p>2 rows × 22 columns</p>\n",
              "</div>\n",
              "      <button class=\"colab-df-convert\" onclick=\"convertToInteractive('df-236019bb-a3a6-411c-b6da-5ed1e29ad367')\"\n",
              "              title=\"Convert this dataframe to an interactive table.\"\n",
              "              style=\"display:none;\">\n",
              "        \n",
              "  <svg xmlns=\"http://www.w3.org/2000/svg\" height=\"24px\"viewBox=\"0 0 24 24\"\n",
              "       width=\"24px\">\n",
              "    <path d=\"M0 0h24v24H0V0z\" fill=\"none\"/>\n",
              "    <path d=\"M18.56 5.44l.94 2.06.94-2.06 2.06-.94-2.06-.94-.94-2.06-.94 2.06-2.06.94zm-11 1L8.5 8.5l.94-2.06 2.06-.94-2.06-.94L8.5 2.5l-.94 2.06-2.06.94zm10 10l.94 2.06.94-2.06 2.06-.94-2.06-.94-.94-2.06-.94 2.06-2.06.94z\"/><path d=\"M17.41 7.96l-1.37-1.37c-.4-.4-.92-.59-1.43-.59-.52 0-1.04.2-1.43.59L10.3 9.45l-7.72 7.72c-.78.78-.78 2.05 0 2.83L4 21.41c.39.39.9.59 1.41.59.51 0 1.02-.2 1.41-.59l7.78-7.78 2.81-2.81c.8-.78.8-2.07 0-2.86zM5.41 20L4 18.59l7.72-7.72 1.47 1.35L5.41 20z\"/>\n",
              "  </svg>\n",
              "      </button>\n",
              "      \n",
              "  <style>\n",
              "    .colab-df-container {\n",
              "      display:flex;\n",
              "      flex-wrap:wrap;\n",
              "      gap: 12px;\n",
              "    }\n",
              "\n",
              "    .colab-df-convert {\n",
              "      background-color: #E8F0FE;\n",
              "      border: none;\n",
              "      border-radius: 50%;\n",
              "      cursor: pointer;\n",
              "      display: none;\n",
              "      fill: #1967D2;\n",
              "      height: 32px;\n",
              "      padding: 0 0 0 0;\n",
              "      width: 32px;\n",
              "    }\n",
              "\n",
              "    .colab-df-convert:hover {\n",
              "      background-color: #E2EBFA;\n",
              "      box-shadow: 0px 1px 2px rgba(60, 64, 67, 0.3), 0px 1px 3px 1px rgba(60, 64, 67, 0.15);\n",
              "      fill: #174EA6;\n",
              "    }\n",
              "\n",
              "    [theme=dark] .colab-df-convert {\n",
              "      background-color: #3B4455;\n",
              "      fill: #D2E3FC;\n",
              "    }\n",
              "\n",
              "    [theme=dark] .colab-df-convert:hover {\n",
              "      background-color: #434B5C;\n",
              "      box-shadow: 0px 1px 3px 1px rgba(0, 0, 0, 0.15);\n",
              "      filter: drop-shadow(0px 1px 2px rgba(0, 0, 0, 0.3));\n",
              "      fill: #FFFFFF;\n",
              "    }\n",
              "  </style>\n",
              "\n",
              "      <script>\n",
              "        const buttonEl =\n",
              "          document.querySelector('#df-236019bb-a3a6-411c-b6da-5ed1e29ad367 button.colab-df-convert');\n",
              "        buttonEl.style.display =\n",
              "          google.colab.kernel.accessAllowed ? 'block' : 'none';\n",
              "\n",
              "        async function convertToInteractive(key) {\n",
              "          const element = document.querySelector('#df-236019bb-a3a6-411c-b6da-5ed1e29ad367');\n",
              "          const dataTable =\n",
              "            await google.colab.kernel.invokeFunction('convertToInteractive',\n",
              "                                                     [key], {});\n",
              "          if (!dataTable) return;\n",
              "\n",
              "          const docLinkHtml = 'Like what you see? Visit the ' +\n",
              "            '<a target=\"_blank\" href=https://colab.research.google.com/notebooks/data_table.ipynb>data table notebook</a>'\n",
              "            + ' to learn more about interactive tables.';\n",
              "          element.innerHTML = '';\n",
              "          dataTable['output_type'] = 'display_data';\n",
              "          await google.colab.output.renderOutput(dataTable, element);\n",
              "          const docLink = document.createElement('div');\n",
              "          docLink.innerHTML = docLinkHtml;\n",
              "          element.appendChild(docLink);\n",
              "        }\n",
              "      </script>\n",
              "    </div>\n",
              "  </div>\n",
              "  "
            ]
          },
          "metadata": {},
          "execution_count": 2
        }
      ]
    },
    {
      "cell_type": "code",
      "source": [
        "df['Diabetes_binary'].value_counts()"
      ],
      "metadata": {
        "colab": {
          "base_uri": "https://localhost:8080/"
        },
        "id": "EHmclLPZ2pHl",
        "outputId": "36b59d6c-eef2-4c33-d79a-d3f491777e86"
      },
      "execution_count": 3,
      "outputs": [
        {
          "output_type": "execute_result",
          "data": {
            "text/plain": [
              "0.0    218334\n",
              "1.0     35346\n",
              "Name: Diabetes_binary, dtype: int64"
            ]
          },
          "metadata": {},
          "execution_count": 3
        }
      ]
    },
    {
      "cell_type": "code",
      "source": [
        "X = df[['HighBP', 'HighChol', 'CholCheck', 'BMI', 'Smoker',\n",
        "       'Stroke', 'HeartDiseaseorAttack', 'PhysActivity', 'Fruits', 'Veggies',\n",
        "       'HvyAlcoholConsump', 'AnyHealthcare', 'NoDocbcCost', 'GenHlth',\n",
        "       'MentHlth', 'PhysHlth', 'DiffWalk', 'Sex', 'Age', 'Education',\n",
        "       'Income']]\n",
        "y = df['Diabetes_binary']\n",
        "X_train, X_test, y_train, y_test = train_test_split(X, y, test_size=0.3, random_state=42)"
      ],
      "metadata": {
        "id": "ebM0eBaGmql1"
      },
      "execution_count": 4,
      "outputs": []
    },
    {
      "cell_type": "code",
      "source": [
        "len(df.columns)"
      ],
      "metadata": {
        "colab": {
          "base_uri": "https://localhost:8080/"
        },
        "id": "FH5kXYjs6b-k",
        "outputId": "227bc5df-555d-4389-dc3d-97c1ac5f17a2"
      },
      "execution_count": 5,
      "outputs": [
        {
          "output_type": "execute_result",
          "data": {
            "text/plain": [
              "22"
            ]
          },
          "metadata": {},
          "execution_count": 5
        }
      ]
    },
    {
      "cell_type": "code",
      "source": [
        "Scaler = StandardScaler()"
      ],
      "metadata": {
        "id": "aUN6SQGim7M3"
      },
      "execution_count": 6,
      "outputs": []
    },
    {
      "cell_type": "code",
      "source": [
        "X_train = Scaler.fit_transform(X_train)\n",
        "X_test = Scaler.fit_transform(X_test) \n",
        "print(\"Shape of train set\",X_train.shape)\n",
        "print(\"Shape of test set\",X_test.shape)"
      ],
      "metadata": {
        "id": "8CT_VccYm4nl",
        "colab": {
          "base_uri": "https://localhost:8080/"
        },
        "outputId": "8f81683c-a905-4cf9-934a-1e432fa01baf"
      },
      "execution_count": 7,
      "outputs": [
        {
          "output_type": "stream",
          "name": "stdout",
          "text": [
            "Shape of train set (177576, 21)\n",
            "Shape of test set (76104, 21)\n"
          ]
        }
      ]
    },
    {
      "cell_type": "code",
      "source": [
        "from sklearn.linear_model import LogisticRegression"
      ],
      "metadata": {
        "id": "mSB16lv-nHrk"
      },
      "execution_count": 8,
      "outputs": []
    },
    {
      "cell_type": "code",
      "source": [
        "clflr = LogisticRegression(max_iter = 130)\n",
        "clflr.fit(X_train, y_train)\n",
        "pred  = clflr.predict(X_test)\n",
        "print(\"Accuracy Score\",accuracy_score(y_test,pred))\n",
        "print(\"f1 Score\",f1_score(y_test,pred))\n",
        "print(\"Recall Score\", recall_score(y_test,pred))\n",
        "print('precison Score', precision_score(y_test,pred))"
      ],
      "metadata": {
        "colab": {
          "base_uri": "https://localhost:8080/"
        },
        "id": "C17lNcRjnL64",
        "outputId": "bbdb84cf-28fa-4303-f263-978c3df179ed"
      },
      "execution_count": 19,
      "outputs": [
        {
          "output_type": "stream",
          "name": "stdout",
          "text": [
            "Accuracy Score 0.8651713444759802\n",
            "f1 Score 0.24545922494301053\n",
            "Recall Score 0.1589675207162587\n",
            "precison Score 0.5383870967741935\n"
          ]
        }
      ]
    },
    {
      "cell_type": "code",
      "source": [
        "plt.figure(figsize = (5,4))\n",
        "cf_matrix = confusion_matrix(y_test, pred)\n",
        "sns.heatmap(cf_matrix, annot=True,fmt = 'd', cmap = 'Blues')\n",
        "plt.title('Confusion metrics for Logistic Regression on Test Set')"
      ],
      "metadata": {
        "colab": {
          "base_uri": "https://localhost:8080/",
          "height": 298
        },
        "id": "Sq0bxaYGnOTZ",
        "outputId": "5714eaa0-7f45-4725-d139-0510a2b81870"
      },
      "execution_count": 29,
      "outputs": [
        {
          "output_type": "execute_result",
          "data": {
            "text/plain": [
              "Text(0.5, 1.0, 'Confusion metrics for Logistic Regression on Test Set')"
            ]
          },
          "metadata": {},
          "execution_count": 29
        },
        {
          "output_type": "display_data",
          "data": {
            "text/plain": [
              "<Figure size 360x288 with 2 Axes>"
            ],
            "image/png": "[encoded data removed]"
          },
          "metadata": {
            "needs_background": "light"
          }
        }
      ]
    },
    {
      "cell_type": "code",
      "source": [
        "pred_train  = clflr.predict(X_train)\n",
        "print(\"Accuracy Score\",accuracy_score(y_train, pred_train))\n",
        "print(\"f1 Score\",f1_score(y_train, pred_train ))\n",
        "print(\"Recall Score\", recall_score(y_train, pred_train ))\n",
        "print('precison Score', precision_score(y_train, pred_train ))"
      ],
      "metadata": {
        "colab": {
          "base_uri": "https://localhost:8080/"
        },
        "id": "d4grCqSfniZk",
        "outputId": "b7495988-1406-408b-dc81-c77a200c1a87"
      },
      "execution_count": 21,
      "outputs": [
        {
          "output_type": "stream",
          "name": "stdout",
          "text": [
            "Accuracy Score 0.8628305626886517\n",
            "f1 Score 0.24255239753716026\n",
            "Recall Score 0.15696059886505412\n",
            "precison Score 0.5334427574887156\n"
          ]
        }
      ]
    },
    {
      "cell_type": "code",
      "source": [
        "plt.figure(figsize = (5,4))\n",
        "cf_matrix = confusion_matrix(y_train, pred_train)\n",
        "sns.heatmap(cf_matrix, annot=True,fmt = 'd', cmap = 'Blues')\n",
        "plt.title('Confusion metrics for Logistic Regression on Train set')"
      ],
      "metadata": {
        "colab": {
          "base_uri": "https://localhost:8080/",
          "height": 298
        },
        "id": "fSajL4DInndL",
        "outputId": "07c19f0d-bac2-451f-dee5-f94d0d96bd73"
      },
      "execution_count": 28,
      "outputs": [
        {
          "output_type": "execute_result",
          "data": {
            "text/plain": [
              "Text(0.5, 1.0, 'Confusion metrics for Logistic Regression on Train set')"
            ]
          },
          "metadata": {},
          "execution_count": 28
        },
        {
          "output_type": "display_data",
          "data": {
            "text/plain": [
              "<Figure size 360x288 with 2 Axes>"
            ],
            "image/png": "[encoded data removed]"
          },
          "metadata": {
            "needs_background": "light"
          }
        }
      ]
    },
    {
      "cell_type": "markdown",
      "source": [
        "###Different Data"
      ],
      "metadata": {
        "id": "dS78zUpSnz0r"
      }
    },
    {
      "cell_type": "code",
      "source": [
        "pred  = clflr.predict(X_test)\n",
        "print(\"Accuracy Score\",accuracy_score(y_test,pred))\n",
        "print(\"f1 Score\",f1_score(y_test,pred, average = 'macro'))\n",
        "print(\"Recall Score\", recall_score(y_test,pred, average = 'macro'))\n",
        "print('precison Score', precision_score(y_test,pred, average = 'macro'))"
      ],
      "metadata": {
        "colab": {
          "base_uri": "https://localhost:8080/"
        },
        "id": "K1g3x0Coobe-",
        "outputId": "3fc0cce3-a7a4-4664-ed9e-a128c73c4ec7"
      },
      "execution_count": 26,
      "outputs": [
        {
          "output_type": "stream",
          "name": "stdout",
          "text": [
            "Accuracy Score 0.8651713444759802\n",
            "f1 Score 0.5857154214738067\n",
            "Recall Score 0.5685775794267979\n",
            "precison Score 0.7087174100933047\n"
          ]
        }
      ]
    },
    {
      "cell_type": "code",
      "source": [
        "!pip install mlxtend --upgrade --no-deps"
      ],
      "metadata": {
        "id": "RP3ZkvvYpkKw",
        "colab": {
          "base_uri": "https://localhost:8080/"
        },
        "outputId": "0cb4f14e-a5cc-49bc-84bb-9975e562adc2"
      },
      "execution_count": 9,
      "outputs": [
        {
          "output_type": "stream",
          "name": "stdout",
          "text": [
            "Looking in indexes: https://pypi.org/simple, https://us-python.pkg.dev/colab-wheels/public/simple/\n",
            "Requirement already satisfied: mlxtend in /usr/local/lib/python3.7/dist-packages (0.14.0)\n",
            "Collecting mlxtend\n",
            "  Downloading mlxtend-0.20.0-py2.py3-none-any.whl (1.3 MB)\n",
            "\u001b[K     |████████████████████████████████| 1.3 MB 14.5 MB/s \n",
            "\u001b[?25hInstalling collected packages: mlxtend\n",
            "  Attempting uninstall: mlxtend\n",
            "    Found existing installation: mlxtend 0.14.0\n",
            "    Uninstalling mlxtend-0.14.0:\n",
            "      Successfully uninstalled mlxtend-0.14.0\n",
            "Successfully installed mlxtend-0.20.0\n"
          ]
        }
      ]
    },
    {
      "cell_type": "code",
      "source": [
        "from mlxtend.plotting import plot_sequential_feature_selection as plot_sfs"
      ],
      "metadata": {
        "id": "k3tkcIvo6FkB"
      },
      "execution_count": 10,
      "outputs": []
    },
    {
      "cell_type": "code",
      "source": [
        "from mlxtend.feature_selection import SequentialFeatureSelector as SFS"
      ],
      "metadata": {
        "id": "sHYpv9ls6JPU"
      },
      "execution_count": 11,
      "outputs": []
    },
    {
      "cell_type": "code",
      "source": [
        "RF = DecisionTreeClassifier(random_state = 0)"
      ],
      "metadata": {
        "id": "GgbOW3fn6Nt0"
      },
      "execution_count": 12,
      "outputs": []
    },
    {
      "cell_type": "code",
      "source": [
        "sfs = SFS(RF, \n",
        "           k_features= (1,21), \n",
        "           forward=True, \n",
        "           floating=False, \n",
        "           verbose=2,\n",
        "           scoring='accuracy',\n",
        "           cv=3).fit(X_train,y_train)\n"
      ],
      "metadata": {
        "colab": {
          "base_uri": "https://localhost:8080/"
        },
        "id": "aIYTo76D6PXY",
        "outputId": "35b01a2d-8eeb-4573-8d3b-d0b287661226"
      },
      "execution_count": 13,
      "outputs": [
        {
          "output_type": "stream",
          "name": "stderr",
          "text": [
            "[Parallel(n_jobs=1)]: Using backend SequentialBackend with 1 concurrent workers.\n",
            "[Parallel(n_jobs=1)]: Done   1 out of   1 | elapsed:    0.2s remaining:    0.0s\n",
            "[Parallel(n_jobs=1)]: Done  21 out of  21 | elapsed:    4.8s finished\n",
            "\n",
            "[2022-06-10 10:26:33] Features: 1/21 -- score: 0.8600768121818264[Parallel(n_jobs=1)]: Using backend SequentialBackend with 1 concurrent workers.\n",
            "[Parallel(n_jobs=1)]: Done   1 out of   1 | elapsed:    0.3s remaining:    0.0s\n",
            "[Parallel(n_jobs=1)]: Done  20 out of  20 | elapsed:    6.2s finished\n",
            "\n",
            "[2022-06-10 10:26:39] Features: 2/21 -- score: 0.8600768121818264[Parallel(n_jobs=1)]: Using backend SequentialBackend with 1 concurrent workers.\n",
            "[Parallel(n_jobs=1)]: Done   1 out of   1 | elapsed:    0.3s remaining:    0.0s\n",
            "[Parallel(n_jobs=1)]: Done  19 out of  19 | elapsed:    7.0s finished\n",
            "\n",
            "[2022-06-10 10:26:47] Features: 3/21 -- score: 0.8612706672072803[Parallel(n_jobs=1)]: Using backend SequentialBackend with 1 concurrent workers.\n",
            "[Parallel(n_jobs=1)]: Done   1 out of   1 | elapsed:    0.5s remaining:    0.0s\n",
            "[Parallel(n_jobs=1)]: Done  18 out of  18 | elapsed:   11.2s finished\n",
            "\n",
            "[2022-06-10 10:26:58] Features: 4/21 -- score: 0.863737216741001[Parallel(n_jobs=1)]: Using backend SequentialBackend with 1 concurrent workers.\n",
            "[Parallel(n_jobs=1)]: Done   1 out of   1 | elapsed:    0.4s remaining:    0.0s\n",
            "[Parallel(n_jobs=1)]: Done  17 out of  17 | elapsed:    6.8s finished\n",
            "\n",
            "[2022-06-10 10:27:05] Features: 5/21 -- score: 0.863872370140109[Parallel(n_jobs=1)]: Using backend SequentialBackend with 1 concurrent workers.\n",
            "[Parallel(n_jobs=1)]: Done   1 out of   1 | elapsed:    0.4s remaining:    0.0s\n",
            "[Parallel(n_jobs=1)]: Done  16 out of  16 | elapsed:    7.0s finished\n",
            "\n",
            "[2022-06-10 10:27:12] Features: 6/21 -- score: 0.8637766364824074[Parallel(n_jobs=1)]: Using backend SequentialBackend with 1 concurrent workers.\n",
            "[Parallel(n_jobs=1)]: Done   1 out of   1 | elapsed:    0.5s remaining:    0.0s\n",
            "[Parallel(n_jobs=1)]: Done  15 out of  15 | elapsed:    7.3s finished\n",
            "\n",
            "[2022-06-10 10:27:19] Features: 7/21 -- score: 0.8631177636617561[Parallel(n_jobs=1)]: Using backend SequentialBackend with 1 concurrent workers.\n",
            "[Parallel(n_jobs=1)]: Done   1 out of   1 | elapsed:    0.5s remaining:    0.0s\n",
            "[Parallel(n_jobs=1)]: Done  14 out of  14 | elapsed:    7.3s finished\n",
            "\n",
            "[2022-06-10 10:27:26] Features: 8/21 -- score: 0.8622730549173312[Parallel(n_jobs=1)]: Using backend SequentialBackend with 1 concurrent workers.\n",
            "[Parallel(n_jobs=1)]: Done   1 out of   1 | elapsed:    0.5s remaining:    0.0s\n",
            "[Parallel(n_jobs=1)]: Done  13 out of  13 | elapsed:    7.5s finished\n",
            "\n",
            "[2022-06-10 10:27:34] Features: 9/21 -- score: 0.8612988241654277[Parallel(n_jobs=1)]: Using backend SequentialBackend with 1 concurrent workers.\n",
            "[Parallel(n_jobs=1)]: Done   1 out of   1 | elapsed:    0.6s remaining:    0.0s\n",
            "[Parallel(n_jobs=1)]: Done  12 out of  12 | elapsed:    8.9s finished\n",
            "\n",
            "[2022-06-10 10:27:43] Features: 10/21 -- score: 0.8590068477722216[Parallel(n_jobs=1)]: Using backend SequentialBackend with 1 concurrent workers.\n",
            "[Parallel(n_jobs=1)]: Done   1 out of   1 | elapsed:    0.7s remaining:    0.0s\n",
            "[Parallel(n_jobs=1)]: Done  11 out of  11 | elapsed:    8.0s finished\n",
            "\n",
            "[2022-06-10 10:27:51] Features: 11/21 -- score: 0.8565177726719826[Parallel(n_jobs=1)]: Using backend SequentialBackend with 1 concurrent workers.\n",
            "[Parallel(n_jobs=1)]: Done   1 out of   1 | elapsed:    0.8s remaining:    0.0s\n",
            "[Parallel(n_jobs=1)]: Done  10 out of  10 | elapsed:    8.2s finished\n",
            "\n",
            "[2022-06-10 10:27:59] Features: 12/21 -- score: 0.8541694823624814[Parallel(n_jobs=1)]: Using backend SequentialBackend with 1 concurrent workers.\n",
            "[Parallel(n_jobs=1)]: Done   1 out of   1 | elapsed:    0.9s remaining:    0.0s\n",
            "[Parallel(n_jobs=1)]: Done   9 out of   9 | elapsed:    8.1s finished\n",
            "\n",
            "[2022-06-10 10:28:07] Features: 13/21 -- score: 0.8508525926927062[Parallel(n_jobs=1)]: Using backend SequentialBackend with 1 concurrent workers.\n",
            "[Parallel(n_jobs=1)]: Done   1 out of   1 | elapsed:    0.9s remaining:    0.0s\n",
            "[Parallel(n_jobs=1)]: Done   8 out of   8 | elapsed:    8.1s finished\n",
            "\n",
            "[2022-06-10 10:28:15] Features: 14/21 -- score: 0.8466403117538407[Parallel(n_jobs=1)]: Using backend SequentialBackend with 1 concurrent workers.\n",
            "[Parallel(n_jobs=1)]: Done   1 out of   1 | elapsed:    1.1s remaining:    0.0s\n",
            "[Parallel(n_jobs=1)]: Done   7 out of   7 | elapsed:    8.0s finished\n",
            "\n",
            "[2022-06-10 10:28:23] Features: 15/21 -- score: 0.8418817858269136[Parallel(n_jobs=1)]: Using backend SequentialBackend with 1 concurrent workers.\n",
            "[Parallel(n_jobs=1)]: Done   1 out of   1 | elapsed:    1.2s remaining:    0.0s\n",
            "[Parallel(n_jobs=1)]: Done   6 out of   6 | elapsed:    7.5s finished\n",
            "\n",
            "[2022-06-10 10:28:31] Features: 16/21 -- score: 0.836599540478443[Parallel(n_jobs=1)]: Using backend SequentialBackend with 1 concurrent workers.\n",
            "[Parallel(n_jobs=1)]: Done   1 out of   1 | elapsed:    1.4s remaining:    0.0s\n",
            "[Parallel(n_jobs=1)]: Done   5 out of   5 | elapsed:    7.7s finished\n",
            "\n",
            "[2022-06-10 10:28:38] Features: 17/21 -- score: 0.825652115150696[Parallel(n_jobs=1)]: Using backend SequentialBackend with 1 concurrent workers.\n",
            "[Parallel(n_jobs=1)]: Done   1 out of   1 | elapsed:    1.5s remaining:    0.0s\n",
            "[Parallel(n_jobs=1)]: Done   4 out of   4 | elapsed:    5.8s finished\n",
            "\n",
            "[2022-06-10 10:28:44] Features: 18/21 -- score: 0.8162758480875795[Parallel(n_jobs=1)]: Using backend SequentialBackend with 1 concurrent workers.\n",
            "[Parallel(n_jobs=1)]: Done   1 out of   1 | elapsed:    3.0s remaining:    0.0s\n",
            "[Parallel(n_jobs=1)]: Done   3 out of   3 | elapsed:    6.2s finished\n",
            "\n",
            "[2022-06-10 10:28:50] Features: 19/21 -- score: 0.8090000901022661[Parallel(n_jobs=1)]: Using backend SequentialBackend with 1 concurrent workers.\n",
            "[Parallel(n_jobs=1)]: Done   1 out of   1 | elapsed:    1.9s remaining:    0.0s\n",
            "[Parallel(n_jobs=1)]: Done   2 out of   2 | elapsed:    3.7s finished\n",
            "\n",
            "[2022-06-10 10:28:54] Features: 20/21 -- score: 0.8004291120421678[Parallel(n_jobs=1)]: Using backend SequentialBackend with 1 concurrent workers.\n",
            "[Parallel(n_jobs=1)]: Done   1 out of   1 | elapsed:    1.9s remaining:    0.0s\n",
            "[Parallel(n_jobs=1)]: Done   1 out of   1 | elapsed:    1.9s finished\n",
            "\n",
            "[2022-06-10 10:28:56] Features: 21/21 -- score: 0.7956480605487228"
          ]
        }
      ]
    },
    {
      "cell_type": "code",
      "source": [
        "info = pd.DataFrame.from_dict(sfs.get_metric_dict()).T"
      ],
      "metadata": {
        "id": "xNQOGjGQ6rMn"
      },
      "execution_count": 14,
      "outputs": []
    },
    {
      "cell_type": "code",
      "source": [
        "info"
      ],
      "metadata": {
        "colab": {
          "base_uri": "https://localhost:8080/",
          "height": 1000
        },
        "id": "9Vp84WTI7dgl",
        "outputId": "83092580-3e4f-464b-ef4f-ad50269fba25"
      },
      "execution_count": 15,
      "outputs": [
        {
          "output_type": "execute_result",
          "data": {
            "text/plain": [
              "                                          feature_idx  \\\n",
              "1                                                (0,)   \n",
              "2                                              (0, 1)   \n",
              "3                                           (0, 1, 3)   \n",
              "4                                       (0, 1, 3, 13)   \n",
              "5                                   (0, 1, 3, 10, 13)   \n",
              "6                                (0, 1, 2, 3, 10, 13)   \n",
              "7                             (0, 1, 2, 3, 5, 10, 13)   \n",
              "8                         (0, 1, 2, 3, 5, 10, 11, 13)   \n",
              "9                     (0, 1, 2, 3, 5, 10, 11, 12, 13)   \n",
              "10                (0, 1, 2, 3, 5, 10, 11, 12, 13, 17)   \n",
              "11             (0, 1, 2, 3, 5, 9, 10, 11, 12, 13, 17)   \n",
              "12          (0, 1, 2, 3, 5, 6, 9, 10, 11, 12, 13, 17)   \n",
              "13      (0, 1, 2, 3, 5, 6, 9, 10, 11, 12, 13, 16, 17)   \n",
              "14   (0, 1, 2, 3, 4, 5, 6, 9, 10, 11, 12, 13, 16, 17)   \n",
              "15  (0, 1, 2, 3, 4, 5, 6, 8, 9, 10, 11, 12, 13, 16...   \n",
              "16  (0, 1, 2, 3, 4, 5, 6, 7, 8, 9, 10, 11, 12, 13,...   \n",
              "17  (0, 1, 2, 3, 4, 5, 6, 7, 8, 9, 10, 11, 12, 13,...   \n",
              "18  (0, 1, 2, 3, 4, 5, 6, 7, 8, 9, 10, 11, 12, 13,...   \n",
              "19  (0, 1, 2, 3, 4, 5, 6, 7, 8, 9, 10, 11, 12, 13,...   \n",
              "20  (0, 1, 2, 3, 4, 5, 6, 7, 8, 9, 10, 11, 12, 13,...   \n",
              "21  (0, 1, 2, 3, 4, 5, 6, 7, 8, 9, 10, 11, 12, 13,...   \n",
              "\n",
              "                                            cv_scores avg_score  \\\n",
              "1   [0.8600655493985674, 0.8600824435734559, 0.860...  0.860077   \n",
              "2   [0.8600655493985674, 0.8600824435734559, 0.860...  0.860077   \n",
              "3   [0.8604541154210028, 0.8617211785376402, 0.861...  0.861271   \n",
              "4   [0.8632923368022706, 0.864525611569131, 0.8633...  0.863737   \n",
              "5   [0.8634105960264901, 0.86476213001757, 0.86344...  0.863872   \n",
              "6   [0.8634950669009326, 0.8644918232193539, 0.863...  0.863777   \n",
              "7   [0.8630220300040546, 0.8636977969995946, 0.862...  0.863118   \n",
              "8   [0.8618394377618597, 0.8631909717529396, 0.861...  0.862273   \n",
              "9   [0.8610116231923233, 0.8613832950398702, 0.861...  0.861299   \n",
              "10  [0.8589843222057034, 0.8583761319097175, 0.859...  0.859007   \n",
              "11  [0.8562474658737668, 0.8562981483984322, 0.857...  0.856518   \n",
              "12  [0.8540005406135964, 0.8544228949858089, 0.854...  0.854169   \n",
              "13  [0.8508582240843358, 0.8506217056358968, 0.851...  0.850853   \n",
              "14  [0.8470908230842006, 0.8462292201648871, 0.846...   0.84664   \n",
              "15  [0.842732125962968, 0.8417015812947696, 0.8412...  0.841882   \n",
              "16  [0.8373259899986485, 0.837106365725098, 0.8353...    0.8366   \n",
              "17  [0.825753480200027, 0.8253818083524801, 0.8258...  0.825652   \n",
              "18  [0.8186072442221922, 0.814974996621165, 0.8152...  0.816276   \n",
              "19  [0.809889849979727, 0.8076598188944452, 0.8094...     0.809   \n",
              "20  [0.8050581159616165, 0.7977260440600081, 0.798...  0.800429   \n",
              "21  [0.7981821867819976, 0.793384241113664, 0.7953...  0.795648   \n",
              "\n",
              "                                        feature_names  ci_bound   std_dev  \\\n",
              "1                                                (0,)  0.000018  0.000008   \n",
              "2                                              (0, 1)  0.000018  0.000008   \n",
              "3                                           (0, 1, 3)  0.001302  0.000578   \n",
              "4                                       (0, 1, 3, 13)  0.001258  0.000559   \n",
              "5                                   (0, 1, 3, 10, 13)  0.001416  0.000629   \n",
              "6                                (0, 1, 2, 3, 10, 13)  0.001147   0.00051   \n",
              "7                             (0, 1, 2, 3, 5, 10, 13)   0.00099   0.00044   \n",
              "8                         (0, 1, 2, 3, 5, 10, 11, 13)  0.001461  0.000649   \n",
              "9                     (0, 1, 2, 3, 5, 10, 11, 12, 13)   0.00047  0.000209   \n",
              "10                (0, 1, 2, 3, 5, 10, 11, 12, 13, 17)   0.00118  0.000524   \n",
              "11             (0, 1, 2, 3, 5, 9, 10, 11, 12, 13, 17)  0.000781  0.000347   \n",
              "12          (0, 1, 2, 3, 5, 6, 9, 10, 11, 12, 13, 17)  0.000411  0.000182   \n",
              "13      (0, 1, 2, 3, 5, 6, 9, 10, 11, 12, 13, 16, 17)  0.000419  0.000186   \n",
              "14   (0, 1, 2, 3, 4, 5, 6, 9, 10, 11, 12, 13, 16, 17)  0.000794  0.000353   \n",
              "15  (0, 1, 2, 3, 4, 5, 6, 8, 9, 10, 11, 12, 13, 16...  0.001426  0.000634   \n",
              "16  (0, 1, 2, 3, 4, 5, 6, 7, 8, 9, 10, 11, 12, 13,...  0.001973  0.000877   \n",
              "17  (0, 1, 2, 3, 4, 5, 6, 7, 8, 9, 10, 11, 12, 13,...  0.000435  0.000193   \n",
              "18  (0, 1, 2, 3, 4, 5, 6, 7, 8, 9, 10, 11, 12, 13,...  0.003718  0.001652   \n",
              "19  (0, 1, 2, 3, 4, 5, 6, 7, 8, 9, 10, 11, 12, 13,...  0.002171  0.000965   \n",
              "20  (0, 1, 2, 3, 4, 5, 6, 7, 8, 9, 10, 11, 12, 13,...    0.0074  0.003289   \n",
              "21  (0, 1, 2, 3, 4, 5, 6, 7, 8, 9, 10, 11, 12, 13,...  0.004429  0.001968   \n",
              "\n",
              "     std_err  \n",
              "1   0.000006  \n",
              "2   0.000006  \n",
              "3   0.000409  \n",
              "4   0.000395  \n",
              "5   0.000445  \n",
              "6    0.00036  \n",
              "7   0.000311  \n",
              "8   0.000459  \n",
              "9   0.000148  \n",
              "10  0.000371  \n",
              "11  0.000245  \n",
              "12  0.000129  \n",
              "13  0.000132  \n",
              "14   0.00025  \n",
              "15  0.000448  \n",
              "16   0.00062  \n",
              "17  0.000137  \n",
              "18  0.001168  \n",
              "19  0.000682  \n",
              "20  0.002325  \n",
              "21  0.001392  "
            ],
            "text/html": [
              "\n",
              "  <div id=\"df-a31830e5-eb04-48f8-91ff-3203c4532b10\">\n",
              "    <div class=\"colab-df-container\">\n",
              "      <div>\n",
              "<style scoped>\n",
              "    .dataframe tbody tr th:only-of-type {\n",
              "        vertical-align: middle;\n",
              "    }\n",
              "\n",
              "    .dataframe tbody tr th {\n",
              "        vertical-align: top;\n",
              "    }\n",
              "\n",
              "    .dataframe thead th {\n",
              "        text-align: right;\n",
              "    }\n",
              "</style>\n",
              "<table border=\"1\" class=\"dataframe\">\n",
              "  <thead>\n",
              "    <tr style=\"text-align: right;\">\n",
              "      <th></th>\n",
              "      <th>feature_idx</th>\n",
              "      <th>cv_scores</th>\n",
              "      <th>avg_score</th>\n",
              "      <th>feature_names</th>\n",
              "      <th>ci_bound</th>\n",
              "      <th>std_dev</th>\n",
              "      <th>std_err</th>\n",
              "    </tr>\n",
              "  </thead>\n",
              "  <tbody>\n",
              "    <tr>\n",
              "      <th>1</th>\n",
              "      <td>(0,)</td>\n",
              "      <td>[0.8600655493985674, 0.8600824435734559, 0.860...</td>\n",
              "      <td>0.860077</td>\n",
              "      <td>(0,)</td>\n",
              "      <td>0.000018</td>\n",
              "      <td>0.000008</td>\n",
              "      <td>0.000006</td>\n",
              "    </tr>\n",
              "    <tr>\n",
              "      <th>2</th>\n",
              "      <td>(0, 1)</td>\n",
              "      <td>[0.8600655493985674, 0.8600824435734559, 0.860...</td>\n",
              "      <td>0.860077</td>\n",
              "      <td>(0, 1)</td>\n",
              "      <td>0.000018</td>\n",
              "      <td>0.000008</td>\n",
              "      <td>0.000006</td>\n",
              "    </tr>\n",
              "    <tr>\n",
              "      <th>3</th>\n",
              "      <td>(0, 1, 3)</td>\n",
              "      <td>[0.8604541154210028, 0.8617211785376402, 0.861...</td>\n",
              "      <td>0.861271</td>\n",
              "      <td>(0, 1, 3)</td>\n",
              "      <td>0.001302</td>\n",
              "      <td>0.000578</td>\n",
              "      <td>0.000409</td>\n",
              "    </tr>\n",
              "    <tr>\n",
              "      <th>4</th>\n",
              "      <td>(0, 1, 3, 13)</td>\n",
              "      <td>[0.8632923368022706, 0.864525611569131, 0.8633...</td>\n",
              "      <td>0.863737</td>\n",
              "      <td>(0, 1, 3, 13)</td>\n",
              "      <td>0.001258</td>\n",
              "      <td>0.000559</td>\n",
              "      <td>0.000395</td>\n",
              "    </tr>\n",
              "    <tr>\n",
              "      <th>5</th>\n",
              "      <td>(0, 1, 3, 10, 13)</td>\n",
              "      <td>[0.8634105960264901, 0.86476213001757, 0.86344...</td>\n",
              "      <td>0.863872</td>\n",
              "      <td>(0, 1, 3, 10, 13)</td>\n",
              "      <td>0.001416</td>\n",
              "      <td>0.000629</td>\n",
              "      <td>0.000445</td>\n",
              "    </tr>\n",
              "    <tr>\n",
              "      <th>6</th>\n",
              "      <td>(0, 1, 2, 3, 10, 13)</td>\n",
              "      <td>[0.8634950669009326, 0.8644918232193539, 0.863...</td>\n",
              "      <td>0.863777</td>\n",
              "      <td>(0, 1, 2, 3, 10, 13)</td>\n",
              "      <td>0.001147</td>\n",
              "      <td>0.00051</td>\n",
              "      <td>0.00036</td>\n",
              "    </tr>\n",
              "    <tr>\n",
              "      <th>7</th>\n",
              "      <td>(0, 1, 2, 3, 5, 10, 13)</td>\n",
              "      <td>[0.8630220300040546, 0.8636977969995946, 0.862...</td>\n",
              "      <td>0.863118</td>\n",
              "      <td>(0, 1, 2, 3, 5, 10, 13)</td>\n",
              "      <td>0.00099</td>\n",
              "      <td>0.00044</td>\n",
              "      <td>0.000311</td>\n",
              "    </tr>\n",
              "    <tr>\n",
              "      <th>8</th>\n",
              "      <td>(0, 1, 2, 3, 5, 10, 11, 13)</td>\n",
              "      <td>[0.8618394377618597, 0.8631909717529396, 0.861...</td>\n",
              "      <td>0.862273</td>\n",
              "      <td>(0, 1, 2, 3, 5, 10, 11, 13)</td>\n",
              "      <td>0.001461</td>\n",
              "      <td>0.000649</td>\n",
              "      <td>0.000459</td>\n",
              "    </tr>\n",
              "    <tr>\n",
              "      <th>9</th>\n",
              "      <td>(0, 1, 2, 3, 5, 10, 11, 12, 13)</td>\n",
              "      <td>[0.8610116231923233, 0.8613832950398702, 0.861...</td>\n",
              "      <td>0.861299</td>\n",
              "      <td>(0, 1, 2, 3, 5, 10, 11, 12, 13)</td>\n",
              "      <td>0.00047</td>\n",
              "      <td>0.000209</td>\n",
              "      <td>0.000148</td>\n",
              "    </tr>\n",
              "    <tr>\n",
              "      <th>10</th>\n",
              "      <td>(0, 1, 2, 3, 5, 10, 11, 12, 13, 17)</td>\n",
              "      <td>[0.8589843222057034, 0.8583761319097175, 0.859...</td>\n",
              "      <td>0.859007</td>\n",
              "      <td>(0, 1, 2, 3, 5, 10, 11, 12, 13, 17)</td>\n",
              "      <td>0.00118</td>\n",
              "      <td>0.000524</td>\n",
              "      <td>0.000371</td>\n",
              "    </tr>\n",
              "    <tr>\n",
              "      <th>11</th>\n",
              "      <td>(0, 1, 2, 3, 5, 9, 10, 11, 12, 13, 17)</td>\n",
              "      <td>[0.8562474658737668, 0.8562981483984322, 0.857...</td>\n",
              "      <td>0.856518</td>\n",
              "      <td>(0, 1, 2, 3, 5, 9, 10, 11, 12, 13, 17)</td>\n",
              "      <td>0.000781</td>\n",
              "      <td>0.000347</td>\n",
              "      <td>0.000245</td>\n",
              "    </tr>\n",
              "    <tr>\n",
              "      <th>12</th>\n",
              "      <td>(0, 1, 2, 3, 5, 6, 9, 10, 11, 12, 13, 17)</td>\n",
              "      <td>[0.8540005406135964, 0.8544228949858089, 0.854...</td>\n",
              "      <td>0.854169</td>\n",
              "      <td>(0, 1, 2, 3, 5, 6, 9, 10, 11, 12, 13, 17)</td>\n",
              "      <td>0.000411</td>\n",
              "      <td>0.000182</td>\n",
              "      <td>0.000129</td>\n",
              "    </tr>\n",
              "    <tr>\n",
              "      <th>13</th>\n",
              "      <td>(0, 1, 2, 3, 5, 6, 9, 10, 11, 12, 13, 16, 17)</td>\n",
              "      <td>[0.8508582240843358, 0.8506217056358968, 0.851...</td>\n",
              "      <td>0.850853</td>\n",
              "      <td>(0, 1, 2, 3, 5, 6, 9, 10, 11, 12, 13, 16, 17)</td>\n",
              "      <td>0.000419</td>\n",
              "      <td>0.000186</td>\n",
              "      <td>0.000132</td>\n",
              "    </tr>\n",
              "    <tr>\n",
              "      <th>14</th>\n",
              "      <td>(0, 1, 2, 3, 4, 5, 6, 9, 10, 11, 12, 13, 16, 17)</td>\n",
              "      <td>[0.8470908230842006, 0.8462292201648871, 0.846...</td>\n",
              "      <td>0.84664</td>\n",
              "      <td>(0, 1, 2, 3, 4, 5, 6, 9, 10, 11, 12, 13, 16, 17)</td>\n",
              "      <td>0.000794</td>\n",
              "      <td>0.000353</td>\n",
              "      <td>0.00025</td>\n",
              "    </tr>\n",
              "    <tr>\n",
              "      <th>15</th>\n",
              "      <td>(0, 1, 2, 3, 4, 5, 6, 8, 9, 10, 11, 12, 13, 16...</td>\n",
              "      <td>[0.842732125962968, 0.8417015812947696, 0.8412...</td>\n",
              "      <td>0.841882</td>\n",
              "      <td>(0, 1, 2, 3, 4, 5, 6, 8, 9, 10, 11, 12, 13, 16...</td>\n",
              "      <td>0.001426</td>\n",
              "      <td>0.000634</td>\n",
              "      <td>0.000448</td>\n",
              "    </tr>\n",
              "    <tr>\n",
              "      <th>16</th>\n",
              "      <td>(0, 1, 2, 3, 4, 5, 6, 7, 8, 9, 10, 11, 12, 13,...</td>\n",
              "      <td>[0.8373259899986485, 0.837106365725098, 0.8353...</td>\n",
              "      <td>0.8366</td>\n",
              "      <td>(0, 1, 2, 3, 4, 5, 6, 7, 8, 9, 10, 11, 12, 13,...</td>\n",
              "      <td>0.001973</td>\n",
              "      <td>0.000877</td>\n",
              "      <td>0.00062</td>\n",
              "    </tr>\n",
              "    <tr>\n",
              "      <th>17</th>\n",
              "      <td>(0, 1, 2, 3, 4, 5, 6, 7, 8, 9, 10, 11, 12, 13,...</td>\n",
              "      <td>[0.825753480200027, 0.8253818083524801, 0.8258...</td>\n",
              "      <td>0.825652</td>\n",
              "      <td>(0, 1, 2, 3, 4, 5, 6, 7, 8, 9, 10, 11, 12, 13,...</td>\n",
              "      <td>0.000435</td>\n",
              "      <td>0.000193</td>\n",
              "      <td>0.000137</td>\n",
              "    </tr>\n",
              "    <tr>\n",
              "      <th>18</th>\n",
              "      <td>(0, 1, 2, 3, 4, 5, 6, 7, 8, 9, 10, 11, 12, 13,...</td>\n",
              "      <td>[0.8186072442221922, 0.814974996621165, 0.8152...</td>\n",
              "      <td>0.816276</td>\n",
              "      <td>(0, 1, 2, 3, 4, 5, 6, 7, 8, 9, 10, 11, 12, 13,...</td>\n",
              "      <td>0.003718</td>\n",
              "      <td>0.001652</td>\n",
              "      <td>0.001168</td>\n",
              "    </tr>\n",
              "    <tr>\n",
              "      <th>19</th>\n",
              "      <td>(0, 1, 2, 3, 4, 5, 6, 7, 8, 9, 10, 11, 12, 13,...</td>\n",
              "      <td>[0.809889849979727, 0.8076598188944452, 0.8094...</td>\n",
              "      <td>0.809</td>\n",
              "      <td>(0, 1, 2, 3, 4, 5, 6, 7, 8, 9, 10, 11, 12, 13,...</td>\n",
              "      <td>0.002171</td>\n",
              "      <td>0.000965</td>\n",
              "      <td>0.000682</td>\n",
              "    </tr>\n",
              "    <tr>\n",
              "      <th>20</th>\n",
              "      <td>(0, 1, 2, 3, 4, 5, 6, 7, 8, 9, 10, 11, 12, 13,...</td>\n",
              "      <td>[0.8050581159616165, 0.7977260440600081, 0.798...</td>\n",
              "      <td>0.800429</td>\n",
              "      <td>(0, 1, 2, 3, 4, 5, 6, 7, 8, 9, 10, 11, 12, 13,...</td>\n",
              "      <td>0.0074</td>\n",
              "      <td>0.003289</td>\n",
              "      <td>0.002325</td>\n",
              "    </tr>\n",
              "    <tr>\n",
              "      <th>21</th>\n",
              "      <td>(0, 1, 2, 3, 4, 5, 6, 7, 8, 9, 10, 11, 12, 13,...</td>\n",
              "      <td>[0.7981821867819976, 0.793384241113664, 0.7953...</td>\n",
              "      <td>0.795648</td>\n",
              "      <td>(0, 1, 2, 3, 4, 5, 6, 7, 8, 9, 10, 11, 12, 13,...</td>\n",
              "      <td>0.004429</td>\n",
              "      <td>0.001968</td>\n",
              "      <td>0.001392</td>\n",
              "    </tr>\n",
              "  </tbody>\n",
              "</table>\n",
              "</div>\n",
              "      <button class=\"colab-df-convert\" onclick=\"convertToInteractive('df-a31830e5-eb04-48f8-91ff-3203c4532b10')\"\n",
              "              title=\"Convert this dataframe to an interactive table.\"\n",
              "              style=\"display:none;\">\n",
              "        \n",
              "  <svg xmlns=\"http://www.w3.org/2000/svg\" height=\"24px\"viewBox=\"0 0 24 24\"\n",
              "       width=\"24px\">\n",
              "    <path d=\"M0 0h24v24H0V0z\" fill=\"none\"/>\n",
              "    <path d=\"M18.56 5.44l.94 2.06.94-2.06 2.06-.94-2.06-.94-.94-2.06-.94 2.06-2.06.94zm-11 1L8.5 8.5l.94-2.06 2.06-.94-2.06-.94L8.5 2.5l-.94 2.06-2.06.94zm10 10l.94 2.06.94-2.06 2.06-.94-2.06-.94-.94-2.06-.94 2.06-2.06.94z\"/><path d=\"M17.41 7.96l-1.37-1.37c-.4-.4-.92-.59-1.43-.59-.52 0-1.04.2-1.43.59L10.3 9.45l-7.72 7.72c-.78.78-.78 2.05 0 2.83L4 21.41c.39.39.9.59 1.41.59.51 0 1.02-.2 1.41-.59l7.78-7.78 2.81-2.81c.8-.78.8-2.07 0-2.86zM5.41 20L4 18.59l7.72-7.72 1.47 1.35L5.41 20z\"/>\n",
              "  </svg>\n",
              "      </button>\n",
              "      \n",
              "  <style>\n",
              "    .colab-df-container {\n",
              "      display:flex;\n",
              "      flex-wrap:wrap;\n",
              "      gap: 12px;\n",
              "    }\n",
              "\n",
              "    .colab-df-convert {\n",
              "      background-color: #E8F0FE;\n",
              "      border: none;\n",
              "      border-radius: 50%;\n",
              "      cursor: pointer;\n",
              "      display: none;\n",
              "      fill: #1967D2;\n",
              "      height: 32px;\n",
              "      padding: 0 0 0 0;\n",
              "      width: 32px;\n",
              "    }\n",
              "\n",
              "    .colab-df-convert:hover {\n",
              "      background-color: #E2EBFA;\n",
              "      box-shadow: 0px 1px 2px rgba(60, 64, 67, 0.3), 0px 1px 3px 1px rgba(60, 64, 67, 0.15);\n",
              "      fill: #174EA6;\n",
              "    }\n",
              "\n",
              "    [theme=dark] .colab-df-convert {\n",
              "      background-color: #3B4455;\n",
              "      fill: #D2E3FC;\n",
              "    }\n",
              "\n",
              "    [theme=dark] .colab-df-convert:hover {\n",
              "      background-color: #434B5C;\n",
              "      box-shadow: 0px 1px 3px 1px rgba(0, 0, 0, 0.15);\n",
              "      filter: drop-shadow(0px 1px 2px rgba(0, 0, 0, 0.3));\n",
              "      fill: #FFFFFF;\n",
              "    }\n",
              "  </style>\n",
              "\n",
              "      <script>\n",
              "        const buttonEl =\n",
              "          document.querySelector('#df-a31830e5-eb04-48f8-91ff-3203c4532b10 button.colab-df-convert');\n",
              "        buttonEl.style.display =\n",
              "          google.colab.kernel.accessAllowed ? 'block' : 'none';\n",
              "\n",
              "        async function convertToInteractive(key) {\n",
              "          const element = document.querySelector('#df-a31830e5-eb04-48f8-91ff-3203c4532b10');\n",
              "          const dataTable =\n",
              "            await google.colab.kernel.invokeFunction('convertToInteractive',\n",
              "                                                     [key], {});\n",
              "          if (!dataTable) return;\n",
              "\n",
              "          const docLinkHtml = 'Like what you see? Visit the ' +\n",
              "            '<a target=\"_blank\" href=https://colab.research.google.com/notebooks/data_table.ipynb>data table notebook</a>'\n",
              "            + ' to learn more about interactive tables.';\n",
              "          element.innerHTML = '';\n",
              "          dataTable['output_type'] = 'display_data';\n",
              "          await google.colab.output.renderOutput(dataTable, element);\n",
              "          const docLink = document.createElement('div');\n",
              "          docLink.innerHTML = docLinkHtml;\n",
              "          element.appendChild(docLink);\n",
              "        }\n",
              "      </script>\n",
              "    </div>\n",
              "  </div>\n",
              "  "
            ]
          },
          "metadata": {},
          "execution_count": 15
        }
      ]
    },
    {
      "cell_type": "code",
      "source": [
        "sfs.k_feature_idx_"
      ],
      "metadata": {
        "colab": {
          "base_uri": "https://localhost:8080/"
        },
        "id": "HLPzGOW67ekm",
        "outputId": "14a58954-5940-47ce-f0ef-8846c9d8cc4e"
      },
      "execution_count": 16,
      "outputs": [
        {
          "output_type": "execute_result",
          "data": {
            "text/plain": [
              "(0, 1, 3, 10, 13)"
            ]
          },
          "metadata": {},
          "execution_count": 16
        }
      ]
    },
    {
      "cell_type": "code",
      "source": [
        "sfs.k_score_"
      ],
      "metadata": {
        "colab": {
          "base_uri": "https://localhost:8080/"
        },
        "id": "6Uc6jI5X7vl9",
        "outputId": "b521aa35-eb40-40d7-da0c-7081d05c9ebf"
      },
      "execution_count": 17,
      "outputs": [
        {
          "output_type": "execute_result",
          "data": {
            "text/plain": [
              "0.863872370140109"
            ]
          },
          "metadata": {},
          "execution_count": 17
        }
      ]
    },
    {
      "cell_type": "code",
      "source": [
        "fig1 = plot_sfs(sfs.get_metric_dict(), kind='std_dev')\n",
        "\n",
        "plt.ylim([0.8, 1])\n",
        "plt.title('Sequential Forward Selection (w. StdDev)')\n",
        "plt.grid()\n",
        "plt.show()"
      ],
      "metadata": {
        "colab": {
          "base_uri": "https://localhost:8080/",
          "height": 295
        },
        "id": "jbb8eo7l7117",
        "outputId": "ad829c3f-50bc-4aef-abdd-98614f07d9df"
      },
      "execution_count": 18,
      "outputs": [
        {
          "output_type": "display_data",
          "data": {
            "text/plain": [
              "<Figure size 432x288 with 1 Axes>"
            ],
            "image/png": "[encoded data removed]"
          },
          "metadata": {
            "needs_background": "light"
          }
        }
      ]
    },
    {
      "cell_type": "code",
      "source": [
        "sfs = SFS(RF, \n",
        "           k_features= (1,21), \n",
        "           forward=False, \n",
        "           floating=False, \n",
        "           verbose=2,\n",
        "           scoring='accuracy',\n",
        "           cv=3).fit(X_train,y_train)"
      ],
      "metadata": {
        "colab": {
          "base_uri": "https://localhost:8080/"
        },
        "id": "MdEeLq_e8J4a",
        "outputId": "16a08500-75ba-4bdf-a489-edceaf1f59b5"
      },
      "execution_count": 53,
      "outputs": [
        {
          "output_type": "stream",
          "name": "stderr",
          "text": [
            "[Parallel(n_jobs=1)]: Using backend SequentialBackend with 1 concurrent workers.\n",
            "[Parallel(n_jobs=1)]: Done   1 out of   1 | elapsed:    1.6s remaining:    0.0s\n",
            "[Parallel(n_jobs=1)]: Done  21 out of  21 | elapsed:   33.7s finished\n",
            "\n",
            "[2022-06-09 19:29:48] Features: 20/1 -- score: 0.8004291120421678[Parallel(n_jobs=1)]: Using backend SequentialBackend with 1 concurrent workers.\n",
            "[Parallel(n_jobs=1)]: Done   1 out of   1 | elapsed:    1.4s remaining:    0.0s\n",
            "[Parallel(n_jobs=1)]: Done  20 out of  20 | elapsed:   29.4s finished\n",
            "\n",
            "[2022-06-09 19:30:17] Features: 19/1 -- score: 0.8113371176285084[Parallel(n_jobs=1)]: Using backend SequentialBackend with 1 concurrent workers.\n",
            "[Parallel(n_jobs=1)]: Done   1 out of   1 | elapsed:    1.2s remaining:    0.0s\n",
            "[Parallel(n_jobs=1)]: Done  19 out of  19 | elapsed:   23.5s finished\n",
            "\n",
            "[2022-06-09 19:30:40] Features: 18/1 -- score: 0.8255676442762535[Parallel(n_jobs=1)]: Using backend SequentialBackend with 1 concurrent workers.\n",
            "[Parallel(n_jobs=1)]: Done   1 out of   1 | elapsed:    1.0s remaining:    0.0s\n",
            "[Parallel(n_jobs=1)]: Done  18 out of  18 | elapsed:   18.5s finished\n",
            "\n",
            "[2022-06-09 19:30:59] Features: 17/1 -- score: 0.8351916925710682[Parallel(n_jobs=1)]: Using backend SequentialBackend with 1 concurrent workers.\n",
            "[Parallel(n_jobs=1)]: Done   1 out of   1 | elapsed:    0.8s remaining:    0.0s\n",
            "[Parallel(n_jobs=1)]: Done  17 out of  17 | elapsed:   14.5s finished\n",
            "\n",
            "[2022-06-09 19:31:13] Features: 16/1 -- score: 0.8461447492904446[Parallel(n_jobs=1)]: Using backend SequentialBackend with 1 concurrent workers.\n",
            "[Parallel(n_jobs=1)]: Done   1 out of   1 | elapsed:    0.6s remaining:    0.0s\n",
            "[Parallel(n_jobs=1)]: Done  16 out of  16 | elapsed:   11.4s finished\n",
            "\n",
            "[2022-06-09 19:31:25] Features: 15/1 -- score: 0.8531670946524305[Parallel(n_jobs=1)]: Using backend SequentialBackend with 1 concurrent workers.\n",
            "[Parallel(n_jobs=1)]: Done   1 out of   1 | elapsed:    0.6s remaining:    0.0s\n",
            "[Parallel(n_jobs=1)]: Done  15 out of  15 | elapsed:    9.0s finished\n",
            "\n",
            "[2022-06-09 19:31:34] Features: 14/1 -- score: 0.8574807406406272[Parallel(n_jobs=1)]: Using backend SequentialBackend with 1 concurrent workers.\n",
            "[Parallel(n_jobs=1)]: Done   1 out of   1 | elapsed:    0.5s remaining:    0.0s\n",
            "[Parallel(n_jobs=1)]: Done  14 out of  14 | elapsed:    6.8s finished\n",
            "\n",
            "[2022-06-09 19:31:41] Features: 13/1 -- score: 0.859192683695995[Parallel(n_jobs=1)]: Using backend SequentialBackend with 1 concurrent workers.\n",
            "[Parallel(n_jobs=1)]: Done   1 out of   1 | elapsed:    0.4s remaining:    0.0s\n",
            "[Parallel(n_jobs=1)]: Done  13 out of  13 | elapsed:    5.4s finished\n",
            "\n",
            "[2022-06-09 19:31:46] Features: 12/1 -- score: 0.8597276659007974[Parallel(n_jobs=1)]: Using backend SequentialBackend with 1 concurrent workers.\n",
            "[Parallel(n_jobs=1)]: Done   1 out of   1 | elapsed:    0.4s remaining:    0.0s\n",
            "[Parallel(n_jobs=1)]: Done  12 out of  12 | elapsed:    4.4s finished\n",
            "\n",
            "[2022-06-09 19:31:50] Features: 11/1 -- score: 0.8601612830562688[Parallel(n_jobs=1)]: Using backend SequentialBackend with 1 concurrent workers.\n",
            "[Parallel(n_jobs=1)]: Done   1 out of   1 | elapsed:    0.3s remaining:    0.0s\n",
            "[Parallel(n_jobs=1)]: Done  11 out of  11 | elapsed:    3.7s finished\n",
            "\n",
            "[2022-06-09 19:31:54] Features: 10/1 -- score: 0.8605442176870749[Parallel(n_jobs=1)]: Using backend SequentialBackend with 1 concurrent workers.\n",
            "[Parallel(n_jobs=1)]: Done   1 out of   1 | elapsed:    0.3s remaining:    0.0s\n",
            "[Parallel(n_jobs=1)]: Done  10 out of  10 | elapsed:    2.9s finished\n",
            "\n",
            "[2022-06-09 19:31:57] Features: 9/1 -- score: 0.8606568455196649[Parallel(n_jobs=1)]: Using backend SequentialBackend with 1 concurrent workers.\n",
            "[Parallel(n_jobs=1)]: Done   1 out of   1 | elapsed:    0.2s remaining:    0.0s\n",
            "[Parallel(n_jobs=1)]: Done   9 out of   9 | elapsed:    2.3s finished\n",
            "\n",
            "[2022-06-09 19:31:59] Features: 8/1 -- score: 0.8607694733522547[Parallel(n_jobs=1)]: Using backend SequentialBackend with 1 concurrent workers.\n",
            "[Parallel(n_jobs=1)]: Done   1 out of   1 | elapsed:    0.2s remaining:    0.0s\n",
            "[Parallel(n_jobs=1)]: Done   8 out of   8 | elapsed:    1.9s finished\n",
            "\n",
            "[2022-06-09 19:32:01] Features: 7/1 -- score: 0.8607638419606253[Parallel(n_jobs=1)]: Using backend SequentialBackend with 1 concurrent workers.\n",
            "[Parallel(n_jobs=1)]: Done   1 out of   1 | elapsed:    0.2s remaining:    0.0s\n",
            "[Parallel(n_jobs=1)]: Done   7 out of   7 | elapsed:    1.5s finished\n",
            "\n",
            "[2022-06-09 19:32:03] Features: 6/1 -- score: 0.8607300536108484[Parallel(n_jobs=1)]: Using backend SequentialBackend with 1 concurrent workers.\n",
            "[Parallel(n_jobs=1)]: Done   1 out of   1 | elapsed:    0.2s remaining:    0.0s\n",
            "[Parallel(n_jobs=1)]: Done   6 out of   6 | elapsed:    1.1s finished\n",
            "\n",
            "[2022-06-09 19:32:04] Features: 5/1 -- score: 0.8605836374284813[Parallel(n_jobs=1)]: Using backend SequentialBackend with 1 concurrent workers.\n",
            "[Parallel(n_jobs=1)]: Done   1 out of   1 | elapsed:    0.2s remaining:    0.0s\n",
            "[Parallel(n_jobs=1)]: Done   5 out of   5 | elapsed:    0.8s finished\n",
            "\n",
            "[2022-06-09 19:32:05] Features: 4/1 -- score: 0.8600768121818264[Parallel(n_jobs=1)]: Using backend SequentialBackend with 1 concurrent workers.\n",
            "[Parallel(n_jobs=1)]: Done   1 out of   1 | elapsed:    0.1s remaining:    0.0s\n",
            "[Parallel(n_jobs=1)]: Done   4 out of   4 | elapsed:    0.6s finished\n",
            "\n",
            "[2022-06-09 19:32:05] Features: 3/1 -- score: 0.8600768121818264[Parallel(n_jobs=1)]: Using backend SequentialBackend with 1 concurrent workers.\n",
            "[Parallel(n_jobs=1)]: Done   1 out of   1 | elapsed:    0.1s remaining:    0.0s\n",
            "[Parallel(n_jobs=1)]: Done   3 out of   3 | elapsed:    0.4s finished\n",
            "\n",
            "[2022-06-09 19:32:06] Features: 2/1 -- score: 0.8600768121818264[Parallel(n_jobs=1)]: Using backend SequentialBackend with 1 concurrent workers.\n",
            "[Parallel(n_jobs=1)]: Done   1 out of   1 | elapsed:    0.1s remaining:    0.0s\n",
            "[Parallel(n_jobs=1)]: Done   2 out of   2 | elapsed:    0.2s finished\n",
            "\n",
            "[2022-06-09 19:32:06] Features: 1/1 -- score: 0.8600768121818264"
          ]
        }
      ]
    },
    {
      "cell_type": "code",
      "source": [
        "pd.DataFrame.from_dict(sfs.get_metric_dict()).T"
      ],
      "metadata": {
        "colab": {
          "base_uri": "https://localhost:8080/",
          "height": 1000
        },
        "id": "f2S9z8Sq8S_J",
        "outputId": "87ed6cc1-d110-473d-960c-e8aba5906d86"
      },
      "execution_count": 54,
      "outputs": [
        {
          "output_type": "execute_result",
          "data": {
            "text/plain": [
              "                                          feature_idx  \\\n",
              "21  (0, 1, 2, 3, 4, 5, 6, 7, 8, 9, 10, 11, 12, 13,...   \n",
              "20  (0, 1, 2, 3, 4, 5, 6, 7, 8, 9, 10, 11, 12, 13,...   \n",
              "19  (0, 1, 2, 4, 5, 6, 7, 8, 9, 10, 11, 12, 13, 14...   \n",
              "18  (0, 1, 2, 4, 5, 6, 7, 8, 9, 10, 11, 12, 13, 14...   \n",
              "17  (0, 1, 2, 4, 5, 6, 7, 8, 9, 10, 11, 12, 13, 14...   \n",
              "16  (0, 1, 2, 4, 5, 6, 7, 8, 9, 10, 11, 12, 13, 16...   \n",
              "15  (0, 1, 2, 4, 5, 6, 7, 8, 9, 10, 11, 12, 13, 16...   \n",
              "14    (0, 1, 2, 4, 5, 6, 7, 8, 9, 10, 11, 12, 16, 17)   \n",
              "13       (0, 1, 2, 5, 6, 7, 8, 9, 10, 11, 12, 16, 17)   \n",
              "12          (0, 1, 2, 5, 6, 7, 8, 10, 11, 12, 16, 17)   \n",
              "11              (0, 1, 2, 5, 6, 7, 8, 10, 11, 16, 17)   \n",
              "10                 (0, 1, 2, 5, 6, 7, 10, 11, 16, 17)   \n",
              "9                     (0, 1, 2, 5, 6, 10, 11, 16, 17)   \n",
              "8                         (0, 1, 2, 5, 6, 10, 16, 17)   \n",
              "7                            (0, 1, 5, 6, 10, 16, 17)   \n",
              "6                               (0, 1, 6, 10, 16, 17)   \n",
              "5                                   (0, 1, 6, 16, 17)   \n",
              "4                                       (0, 1, 6, 16)   \n",
              "3                                           (0, 1, 6)   \n",
              "2                                              (0, 1)   \n",
              "1                                                (0,)   \n",
              "\n",
              "                                            cv_scores avg_score  \\\n",
              "21  [0.7981821867819976, 0.793384241113664, 0.7953...  0.795648   \n",
              "20  [0.8050581159616165, 0.7977260440600081, 0.798...  0.800429   \n",
              "19  [0.8120860927152318, 0.8095181781321801, 0.812...  0.811337   \n",
              "18  [0.8273246384646574, 0.8246215704824976, 0.824...  0.825568   \n",
              "17  [0.836700905527774, 0.8351128530882552, 0.8337...  0.835192   \n",
              "16  [0.8467360454115421, 0.8450128395729153, 0.846...  0.846145   \n",
              "15  [0.8523786998243006, 0.8532571969185025, 0.853...  0.853167   \n",
              "14  [0.8573286930666306, 0.8573624814164076, 0.857...  0.857481   \n",
              "13  [0.8586464387079336, 0.859035004730369, 0.8598...  0.859193   \n",
              "12  [0.8594404649276929, 0.859676983376132, 0.8600...  0.859728   \n",
              "11  [0.8600824435734559, 0.8603189620218948, 0.860...  0.860161   \n",
              "10  [0.8604541154210028, 0.8604034328963374, 0.860...  0.860544   \n",
              "9   [0.8602175969725638, 0.8609271523178808, 0.860...  0.860657   \n",
              "8   [0.8601838086227869, 0.8612650358156507, 0.860...  0.860769   \n",
              "7   [0.8601838086227869, 0.8612819299905392, 0.860...  0.860764   \n",
              "6   [0.8604034328963374, 0.8609440464927693, 0.860...   0.86073   \n",
              "5   [0.8602513853223409, 0.8606906338694418, 0.860...  0.860584   \n",
              "4   [0.8600655493985674, 0.8600824435734559, 0.860...  0.860077   \n",
              "3   [0.8600655493985674, 0.8600824435734559, 0.860...  0.860077   \n",
              "2   [0.8600655493985674, 0.8600824435734559, 0.860...  0.860077   \n",
              "1   [0.8600655493985674, 0.8600824435734559, 0.860...  0.860077   \n",
              "\n",
              "                                        feature_names  ci_bound   std_dev  \\\n",
              "21  (0, 1, 2, 3, 4, 5, 6, 7, 8, 9, 10, 11, 12, 13,...  0.004429  0.001968   \n",
              "20  (0, 1, 2, 3, 4, 5, 6, 7, 8, 9, 10, 11, 12, 13,...    0.0074  0.003289   \n",
              "19  (0, 1, 2, 4, 5, 6, 7, 8, 9, 10, 11, 12, 13, 14...  0.002909  0.001293   \n",
              "18  (0, 1, 2, 4, 5, 6, 7, 8, 9, 10, 11, 12, 13, 14...  0.002799  0.001244   \n",
              "17  (0, 1, 2, 4, 5, 6, 7, 8, 9, 10, 11, 12, 13, 14...  0.002703  0.001201   \n",
              "16  (0, 1, 2, 4, 5, 6, 7, 8, 9, 10, 11, 12, 13, 16...  0.001802  0.000801   \n",
              "15  (0, 1, 2, 4, 5, 6, 7, 8, 9, 10, 11, 12, 13, 16...  0.001373   0.00061   \n",
              "14    (0, 1, 2, 4, 5, 6, 7, 8, 9, 10, 11, 12, 16, 17)  0.000431  0.000192   \n",
              "13       (0, 1, 2, 5, 6, 7, 8, 9, 10, 11, 12, 16, 17)  0.001176  0.000522   \n",
              "12          (0, 1, 2, 5, 6, 7, 8, 10, 11, 12, 16, 17)   0.00058  0.000258   \n",
              "11              (0, 1, 2, 5, 6, 7, 8, 10, 11, 16, 17)  0.000251  0.000111   \n",
              "10                 (0, 1, 2, 5, 6, 7, 10, 11, 16, 17)   0.00037  0.000165   \n",
              "9                     (0, 1, 2, 5, 6, 10, 11, 16, 17)  0.000705  0.000313   \n",
              "8                         (0, 1, 2, 5, 6, 10, 16, 17)  0.001004  0.000446   \n",
              "7                            (0, 1, 5, 6, 10, 16, 17)  0.001014   0.00045   \n",
              "6                               (0, 1, 6, 10, 16, 17)  0.000528  0.000235   \n",
              "5                                   (0, 1, 6, 16, 17)   0.00054   0.00024   \n",
              "4                                       (0, 1, 6, 16)  0.000018  0.000008   \n",
              "3                                           (0, 1, 6)  0.000018  0.000008   \n",
              "2                                              (0, 1)  0.000018  0.000008   \n",
              "1                                                (0,)  0.000018  0.000008   \n",
              "\n",
              "     std_err  \n",
              "21  0.001392  \n",
              "20  0.002325  \n",
              "19  0.000914  \n",
              "18  0.000879  \n",
              "17   0.00085  \n",
              "16  0.000566  \n",
              "15  0.000432  \n",
              "14  0.000136  \n",
              "13  0.000369  \n",
              "12  0.000182  \n",
              "11  0.000079  \n",
              "10  0.000116  \n",
              "9   0.000222  \n",
              "8   0.000315  \n",
              "7   0.000319  \n",
              "6   0.000166  \n",
              "5    0.00017  \n",
              "4   0.000006  \n",
              "3   0.000006  \n",
              "2   0.000006  \n",
              "1   0.000006  "
            ],
            "text/html": [
              "\n",
              "  <div id=\"df-fbe19fe7-9332-4625-891c-c185930ae800\">\n",
              "    <div class=\"colab-df-container\">\n",
              "      <div>\n",
              "<style scoped>\n",
              "    .dataframe tbody tr th:only-of-type {\n",
              "        vertical-align: middle;\n",
              "    }\n",
              "\n",
              "    .dataframe tbody tr th {\n",
              "        vertical-align: top;\n",
              "    }\n",
              "\n",
              "    .dataframe thead th {\n",
              "        text-align: right;\n",
              "    }\n",
              "</style>\n",
              "<table border=\"1\" class=\"dataframe\">\n",
              "  <thead>\n",
              "    <tr style=\"text-align: right;\">\n",
              "      <th></th>\n",
              "      <th>feature_idx</th>\n",
              "      <th>cv_scores</th>\n",
              "      <th>avg_score</th>\n",
              "      <th>feature_names</th>\n",
              "      <th>ci_bound</th>\n",
              "      <th>std_dev</th>\n",
              "      <th>std_err</th>\n",
              "    </tr>\n",
              "  </thead>\n",
              "  <tbody>\n",
              "    <tr>\n",
              "      <th>21</th>\n",
              "      <td>(0, 1, 2, 3, 4, 5, 6, 7, 8, 9, 10, 11, 12, 13,...</td>\n",
              "      <td>[0.7981821867819976, 0.793384241113664, 0.7953...</td>\n",
              "      <td>0.795648</td>\n",
              "      <td>(0, 1, 2, 3, 4, 5, 6, 7, 8, 9, 10, 11, 12, 13,...</td>\n",
              "      <td>0.004429</td>\n",
              "      <td>0.001968</td>\n",
              "      <td>0.001392</td>\n",
              "    </tr>\n",
              "    <tr>\n",
              "      <th>20</th>\n",
              "      <td>(0, 1, 2, 3, 4, 5, 6, 7, 8, 9, 10, 11, 12, 13,...</td>\n",
              "      <td>[0.8050581159616165, 0.7977260440600081, 0.798...</td>\n",
              "      <td>0.800429</td>\n",
              "      <td>(0, 1, 2, 3, 4, 5, 6, 7, 8, 9, 10, 11, 12, 13,...</td>\n",
              "      <td>0.0074</td>\n",
              "      <td>0.003289</td>\n",
              "      <td>0.002325</td>\n",
              "    </tr>\n",
              "    <tr>\n",
              "      <th>19</th>\n",
              "      <td>(0, 1, 2, 4, 5, 6, 7, 8, 9, 10, 11, 12, 13, 14...</td>\n",
              "      <td>[0.8120860927152318, 0.8095181781321801, 0.812...</td>\n",
              "      <td>0.811337</td>\n",
              "      <td>(0, 1, 2, 4, 5, 6, 7, 8, 9, 10, 11, 12, 13, 14...</td>\n",
              "      <td>0.002909</td>\n",
              "      <td>0.001293</td>\n",
              "      <td>0.000914</td>\n",
              "    </tr>\n",
              "    <tr>\n",
              "      <th>18</th>\n",
              "      <td>(0, 1, 2, 4, 5, 6, 7, 8, 9, 10, 11, 12, 13, 14...</td>\n",
              "      <td>[0.8273246384646574, 0.8246215704824976, 0.824...</td>\n",
              "      <td>0.825568</td>\n",
              "      <td>(0, 1, 2, 4, 5, 6, 7, 8, 9, 10, 11, 12, 13, 14...</td>\n",
              "      <td>0.002799</td>\n",
              "      <td>0.001244</td>\n",
              "      <td>0.000879</td>\n",
              "    </tr>\n",
              "    <tr>\n",
              "      <th>17</th>\n",
              "      <td>(0, 1, 2, 4, 5, 6, 7, 8, 9, 10, 11, 12, 13, 14...</td>\n",
              "      <td>[0.836700905527774, 0.8351128530882552, 0.8337...</td>\n",
              "      <td>0.835192</td>\n",
              "      <td>(0, 1, 2, 4, 5, 6, 7, 8, 9, 10, 11, 12, 13, 14...</td>\n",
              "      <td>0.002703</td>\n",
              "      <td>0.001201</td>\n",
              "      <td>0.00085</td>\n",
              "    </tr>\n",
              "    <tr>\n",
              "      <th>16</th>\n",
              "      <td>(0, 1, 2, 4, 5, 6, 7, 8, 9, 10, 11, 12, 13, 16...</td>\n",
              "      <td>[0.8467360454115421, 0.8450128395729153, 0.846...</td>\n",
              "      <td>0.846145</td>\n",
              "      <td>(0, 1, 2, 4, 5, 6, 7, 8, 9, 10, 11, 12, 13, 16...</td>\n",
              "      <td>0.001802</td>\n",
              "      <td>0.000801</td>\n",
              "      <td>0.000566</td>\n",
              "    </tr>\n",
              "    <tr>\n",
              "      <th>15</th>\n",
              "      <td>(0, 1, 2, 4, 5, 6, 7, 8, 9, 10, 11, 12, 13, 16...</td>\n",
              "      <td>[0.8523786998243006, 0.8532571969185025, 0.853...</td>\n",
              "      <td>0.853167</td>\n",
              "      <td>(0, 1, 2, 4, 5, 6, 7, 8, 9, 10, 11, 12, 13, 16...</td>\n",
              "      <td>0.001373</td>\n",
              "      <td>0.00061</td>\n",
              "      <td>0.000432</td>\n",
              "    </tr>\n",
              "    <tr>\n",
              "      <th>14</th>\n",
              "      <td>(0, 1, 2, 4, 5, 6, 7, 8, 9, 10, 11, 12, 16, 17)</td>\n",
              "      <td>[0.8573286930666306, 0.8573624814164076, 0.857...</td>\n",
              "      <td>0.857481</td>\n",
              "      <td>(0, 1, 2, 4, 5, 6, 7, 8, 9, 10, 11, 12, 16, 17)</td>\n",
              "      <td>0.000431</td>\n",
              "      <td>0.000192</td>\n",
              "      <td>0.000136</td>\n",
              "    </tr>\n",
              "    <tr>\n",
              "      <th>13</th>\n",
              "      <td>(0, 1, 2, 5, 6, 7, 8, 9, 10, 11, 12, 16, 17)</td>\n",
              "      <td>[0.8586464387079336, 0.859035004730369, 0.8598...</td>\n",
              "      <td>0.859193</td>\n",
              "      <td>(0, 1, 2, 5, 6, 7, 8, 9, 10, 11, 12, 16, 17)</td>\n",
              "      <td>0.001176</td>\n",
              "      <td>0.000522</td>\n",
              "      <td>0.000369</td>\n",
              "    </tr>\n",
              "    <tr>\n",
              "      <th>12</th>\n",
              "      <td>(0, 1, 2, 5, 6, 7, 8, 10, 11, 12, 16, 17)</td>\n",
              "      <td>[0.8594404649276929, 0.859676983376132, 0.8600...</td>\n",
              "      <td>0.859728</td>\n",
              "      <td>(0, 1, 2, 5, 6, 7, 8, 10, 11, 12, 16, 17)</td>\n",
              "      <td>0.00058</td>\n",
              "      <td>0.000258</td>\n",
              "      <td>0.000182</td>\n",
              "    </tr>\n",
              "    <tr>\n",
              "      <th>11</th>\n",
              "      <td>(0, 1, 2, 5, 6, 7, 8, 10, 11, 16, 17)</td>\n",
              "      <td>[0.8600824435734559, 0.8603189620218948, 0.860...</td>\n",
              "      <td>0.860161</td>\n",
              "      <td>(0, 1, 2, 5, 6, 7, 8, 10, 11, 16, 17)</td>\n",
              "      <td>0.000251</td>\n",
              "      <td>0.000111</td>\n",
              "      <td>0.000079</td>\n",
              "    </tr>\n",
              "    <tr>\n",
              "      <th>10</th>\n",
              "      <td>(0, 1, 2, 5, 6, 7, 10, 11, 16, 17)</td>\n",
              "      <td>[0.8604541154210028, 0.8604034328963374, 0.860...</td>\n",
              "      <td>0.860544</td>\n",
              "      <td>(0, 1, 2, 5, 6, 7, 10, 11, 16, 17)</td>\n",
              "      <td>0.00037</td>\n",
              "      <td>0.000165</td>\n",
              "      <td>0.000116</td>\n",
              "    </tr>\n",
              "    <tr>\n",
              "      <th>9</th>\n",
              "      <td>(0, 1, 2, 5, 6, 10, 11, 16, 17)</td>\n",
              "      <td>[0.8602175969725638, 0.8609271523178808, 0.860...</td>\n",
              "      <td>0.860657</td>\n",
              "      <td>(0, 1, 2, 5, 6, 10, 11, 16, 17)</td>\n",
              "      <td>0.000705</td>\n",
              "      <td>0.000313</td>\n",
              "      <td>0.000222</td>\n",
              "    </tr>\n",
              "    <tr>\n",
              "      <th>8</th>\n",
              "      <td>(0, 1, 2, 5, 6, 10, 16, 17)</td>\n",
              "      <td>[0.8601838086227869, 0.8612650358156507, 0.860...</td>\n",
              "      <td>0.860769</td>\n",
              "      <td>(0, 1, 2, 5, 6, 10, 16, 17)</td>\n",
              "      <td>0.001004</td>\n",
              "      <td>0.000446</td>\n",
              "      <td>0.000315</td>\n",
              "    </tr>\n",
              "    <tr>\n",
              "      <th>7</th>\n",
              "      <td>(0, 1, 5, 6, 10, 16, 17)</td>\n",
              "      <td>[0.8601838086227869, 0.8612819299905392, 0.860...</td>\n",
              "      <td>0.860764</td>\n",
              "      <td>(0, 1, 5, 6, 10, 16, 17)</td>\n",
              "      <td>0.001014</td>\n",
              "      <td>0.00045</td>\n",
              "      <td>0.000319</td>\n",
              "    </tr>\n",
              "    <tr>\n",
              "      <th>6</th>\n",
              "      <td>(0, 1, 6, 10, 16, 17)</td>\n",
              "      <td>[0.8604034328963374, 0.8609440464927693, 0.860...</td>\n",
              "      <td>0.86073</td>\n",
              "      <td>(0, 1, 6, 10, 16, 17)</td>\n",
              "      <td>0.000528</td>\n",
              "      <td>0.000235</td>\n",
              "      <td>0.000166</td>\n",
              "    </tr>\n",
              "    <tr>\n",
              "      <th>5</th>\n",
              "      <td>(0, 1, 6, 16, 17)</td>\n",
              "      <td>[0.8602513853223409, 0.8606906338694418, 0.860...</td>\n",
              "      <td>0.860584</td>\n",
              "      <td>(0, 1, 6, 16, 17)</td>\n",
              "      <td>0.00054</td>\n",
              "      <td>0.00024</td>\n",
              "      <td>0.00017</td>\n",
              "    </tr>\n",
              "    <tr>\n",
              "      <th>4</th>\n",
              "      <td>(0, 1, 6, 16)</td>\n",
              "      <td>[0.8600655493985674, 0.8600824435734559, 0.860...</td>\n",
              "      <td>0.860077</td>\n",
              "      <td>(0, 1, 6, 16)</td>\n",
              "      <td>0.000018</td>\n",
              "      <td>0.000008</td>\n",
              "      <td>0.000006</td>\n",
              "    </tr>\n",
              "    <tr>\n",
              "      <th>3</th>\n",
              "      <td>(0, 1, 6)</td>\n",
              "      <td>[0.8600655493985674, 0.8600824435734559, 0.860...</td>\n",
              "      <td>0.860077</td>\n",
              "      <td>(0, 1, 6)</td>\n",
              "      <td>0.000018</td>\n",
              "      <td>0.000008</td>\n",
              "      <td>0.000006</td>\n",
              "    </tr>\n",
              "    <tr>\n",
              "      <th>2</th>\n",
              "      <td>(0, 1)</td>\n",
              "      <td>[0.8600655493985674, 0.8600824435734559, 0.860...</td>\n",
              "      <td>0.860077</td>\n",
              "      <td>(0, 1)</td>\n",
              "      <td>0.000018</td>\n",
              "      <td>0.000008</td>\n",
              "      <td>0.000006</td>\n",
              "    </tr>\n",
              "    <tr>\n",
              "      <th>1</th>\n",
              "      <td>(0,)</td>\n",
              "      <td>[0.8600655493985674, 0.8600824435734559, 0.860...</td>\n",
              "      <td>0.860077</td>\n",
              "      <td>(0,)</td>\n",
              "      <td>0.000018</td>\n",
              "      <td>0.000008</td>\n",
              "      <td>0.000006</td>\n",
              "    </tr>\n",
              "  </tbody>\n",
              "</table>\n",
              "</div>\n",
              "      <button class=\"colab-df-convert\" onclick=\"convertToInteractive('df-fbe19fe7-9332-4625-891c-c185930ae800')\"\n",
              "              title=\"Convert this dataframe to an interactive table.\"\n",
              "              style=\"display:none;\">\n",
              "        \n",
              "  <svg xmlns=\"http://www.w3.org/2000/svg\" height=\"24px\"viewBox=\"0 0 24 24\"\n",
              "       width=\"24px\">\n",
              "    <path d=\"M0 0h24v24H0V0z\" fill=\"none\"/>\n",
              "    <path d=\"M18.56 5.44l.94 2.06.94-2.06 2.06-.94-2.06-.94-.94-2.06-.94 2.06-2.06.94zm-11 1L8.5 8.5l.94-2.06 2.06-.94-2.06-.94L8.5 2.5l-.94 2.06-2.06.94zm10 10l.94 2.06.94-2.06 2.06-.94-2.06-.94-.94-2.06-.94 2.06-2.06.94z\"/><path d=\"M17.41 7.96l-1.37-1.37c-.4-.4-.92-.59-1.43-.59-.52 0-1.04.2-1.43.59L10.3 9.45l-7.72 7.72c-.78.78-.78 2.05 0 2.83L4 21.41c.39.39.9.59 1.41.59.51 0 1.02-.2 1.41-.59l7.78-7.78 2.81-2.81c.8-.78.8-2.07 0-2.86zM5.41 20L4 18.59l7.72-7.72 1.47 1.35L5.41 20z\"/>\n",
              "  </svg>\n",
              "      </button>\n",
              "      \n",
              "  <style>\n",
              "    .colab-df-container {\n",
              "      display:flex;\n",
              "      flex-wrap:wrap;\n",
              "      gap: 12px;\n",
              "    }\n",
              "\n",
              "    .colab-df-convert {\n",
              "      background-color: #E8F0FE;\n",
              "      border: none;\n",
              "      border-radius: 50%;\n",
              "      cursor: pointer;\n",
              "      display: none;\n",
              "      fill: #1967D2;\n",
              "      height: 32px;\n",
              "      padding: 0 0 0 0;\n",
              "      width: 32px;\n",
              "    }\n",
              "\n",
              "    .colab-df-convert:hover {\n",
              "      background-color: #E2EBFA;\n",
              "      box-shadow: 0px 1px 2px rgba(60, 64, 67, 0.3), 0px 1px 3px 1px rgba(60, 64, 67, 0.15);\n",
              "      fill: #174EA6;\n",
              "    }\n",
              "\n",
              "    [theme=dark] .colab-df-convert {\n",
              "      background-color: #3B4455;\n",
              "      fill: #D2E3FC;\n",
              "    }\n",
              "\n",
              "    [theme=dark] .colab-df-convert:hover {\n",
              "      background-color: #434B5C;\n",
              "      box-shadow: 0px 1px 3px 1px rgba(0, 0, 0, 0.15);\n",
              "      filter: drop-shadow(0px 1px 2px rgba(0, 0, 0, 0.3));\n",
              "      fill: #FFFFFF;\n",
              "    }\n",
              "  </style>\n",
              "\n",
              "      <script>\n",
              "        const buttonEl =\n",
              "          document.querySelector('#df-fbe19fe7-9332-4625-891c-c185930ae800 button.colab-df-convert');\n",
              "        buttonEl.style.display =\n",
              "          google.colab.kernel.accessAllowed ? 'block' : 'none';\n",
              "\n",
              "        async function convertToInteractive(key) {\n",
              "          const element = document.querySelector('#df-fbe19fe7-9332-4625-891c-c185930ae800');\n",
              "          const dataTable =\n",
              "            await google.colab.kernel.invokeFunction('convertToInteractive',\n",
              "                                                     [key], {});\n",
              "          if (!dataTable) return;\n",
              "\n",
              "          const docLinkHtml = 'Like what you see? Visit the ' +\n",
              "            '<a target=\"_blank\" href=https://colab.research.google.com/notebooks/data_table.ipynb>data table notebook</a>'\n",
              "            + ' to learn more about interactive tables.';\n",
              "          element.innerHTML = '';\n",
              "          dataTable['output_type'] = 'display_data';\n",
              "          await google.colab.output.renderOutput(dataTable, element);\n",
              "          const docLink = document.createElement('div');\n",
              "          docLink.innerHTML = docLinkHtml;\n",
              "          element.appendChild(docLink);\n",
              "        }\n",
              "      </script>\n",
              "    </div>\n",
              "  </div>\n",
              "  "
            ]
          },
          "metadata": {},
          "execution_count": 54
        }
      ]
    },
    {
      "cell_type": "code",
      "source": [
        "sfs.k_feature_idx_"
      ],
      "metadata": {
        "colab": {
          "base_uri": "https://localhost:8080/"
        },
        "id": "VnTaXwyN9DxY",
        "outputId": "5906431e-a742-44f7-d35a-e0d96e1d2d29"
      },
      "execution_count": 55,
      "outputs": [
        {
          "output_type": "execute_result",
          "data": {
            "text/plain": [
              "(0, 1, 2, 5, 6, 10, 16, 17)"
            ]
          },
          "metadata": {},
          "execution_count": 55
        }
      ]
    },
    {
      "cell_type": "code",
      "source": [
        "sfs.k_feature_names_"
      ],
      "metadata": {
        "colab": {
          "base_uri": "https://localhost:8080/"
        },
        "id": "J_4_cHPm9IVV",
        "outputId": "f0901309-22a9-4235-c657-8b2921d8af2b"
      },
      "execution_count": 56,
      "outputs": [
        {
          "output_type": "execute_result",
          "data": {
            "text/plain": [
              "('0', '1', '2', '5', '6', '10', '16', '17')"
            ]
          },
          "metadata": {},
          "execution_count": 56
        }
      ]
    },
    {
      "cell_type": "code",
      "source": [
        "sfs.k_score_"
      ],
      "metadata": {
        "colab": {
          "base_uri": "https://localhost:8080/"
        },
        "id": "lGwXi09y9Kgl",
        "outputId": "9ed7580f-3784-4619-8848-955bb6b260da"
      },
      "execution_count": 57,
      "outputs": [
        {
          "output_type": "execute_result",
          "data": {
            "text/plain": [
              "0.8607694733522547"
            ]
          },
          "metadata": {},
          "execution_count": 57
        }
      ]
    },
    {
      "cell_type": "code",
      "source": [
        "fig1 = plot_sfs(sfs.get_metric_dict(), kind='std_dev')\n",
        "\n",
        "plt.ylim([0.8, 1])\n",
        "plt.title('Sequential Backward Selection (w. StdDev)')\n",
        "plt.grid()\n",
        "plt.show()"
      ],
      "metadata": {
        "colab": {
          "base_uri": "https://localhost:8080/",
          "height": 295
        },
        "id": "I3loAkNX9MeT",
        "outputId": "8a84eb5c-99d2-4608-aff9-c219574ba7e3"
      },
      "execution_count": 58,
      "outputs": [
        {
          "output_type": "display_data",
          "data": {
            "text/plain": [
              "<Figure size 432x288 with 1 Axes>"
            ],
            "image/png": "[encoded data removed]"
          },
          "metadata": {
            "needs_background": "light"
          }
        }
      ]
    },
    {
      "cell_type": "code",
      "source": [
        "from mlxtend.feature_selection import ExhaustiveFeatureSelector as EFS"
      ],
      "metadata": {
        "id": "-XFIk0a49PUX"
      },
      "execution_count": 19,
      "outputs": []
    },
    {
      "cell_type": "code",
      "source": [
        "efs = EFS(RF, min_features=2,max_features = 21,n_jobs = -1).fit(X_train,y_train)  "
      ],
      "metadata": {
        "colab": {
          "base_uri": "https://localhost:8080/",
          "height": 1000
        },
        "id": "5H4Q_KI09dbA",
        "outputId": "3f193bc7-80db-47a9-b5a4-ae6bf8e7d4cd"
      },
      "execution_count": 22,
      "outputs": [
        {
          "output_type": "error",
          "ename": "PicklingError",
          "evalue": "ignored",
          "traceback": [
            "\u001b[0;31m---------------------------------------------------------------------------\u001b[0m",
            "\u001b[0;31m_RemoteTraceback\u001b[0m                          Traceback (most recent call last)",
            "\u001b[0;31m_RemoteTraceback\u001b[0m: \n\"\"\"\nTraceback (most recent call last):\n  File \"/usr/local/lib/python3.7/dist-packages/joblib/externals/loky/backend/queues.py\", line 153, in _feed\n    obj_ = dumps(obj, reducers=reducers)\n  File \"/usr/local/lib/python3.7/dist-packages/joblib/externals/loky/backend/reduction.py\", line 271, in dumps\n    dump(obj, buf, reducers=reducers, protocol=protocol)\n  File \"/usr/local/lib/python3.7/dist-packages/joblib/externals/loky/backend/reduction.py\", line 264, in dump\n    _LokyPickler(file, reducers=reducers, protocol=protocol).dump(obj)\n  File \"/usr/local/lib/python3.7/dist-packages/joblib/externals/cloudpickle/cloudpickle_fast.py\", line 602, in dump\n    return Pickler.dump(self, obj)\n  File \"/usr/lib/python3.7/pickle.py\", line 437, in dump\n    self.save(obj)\n  File \"/usr/lib/python3.7/pickle.py\", line 549, in save\n    self.save_reduce(obj=obj, *rv)\n  File \"/usr/lib/python3.7/pickle.py\", line 662, in save_reduce\n    save(state)\n  File \"/usr/lib/python3.7/pickle.py\", line 504, in save\n    f(self, obj) # Call unbound method with explicit self\n  File \"/usr/lib/python3.7/pickle.py\", line 859, in save_dict\n    self._batch_setitems(obj.items())\n  File \"/usr/lib/python3.7/pickle.py\", line 885, in _batch_setitems\n    save(v)\n  File \"/usr/lib/python3.7/pickle.py\", line 549, in save\n    self.save_reduce(obj=obj, *rv)\n  File \"/usr/lib/python3.7/pickle.py\", line 662, in save_reduce\n    save(state)\n  File \"/usr/lib/python3.7/pickle.py\", line 504, in save\n    f(self, obj) # Call unbound method with explicit self\n  File \"/usr/lib/python3.7/pickle.py\", line 859, in save_dict\n    self._batch_setitems(obj.items())\n  File \"/usr/lib/python3.7/pickle.py\", line 890, in _batch_setitems\n    save(v)\n  File \"/usr/lib/python3.7/pickle.py\", line 549, in save\n    self.save_reduce(obj=obj, *rv)\n  File \"/usr/lib/python3.7/pickle.py\", line 638, in save_reduce\n    save(args)\n  File \"/usr/lib/python3.7/pickle.py\", line 504, in save\n    f(self, obj) # Call unbound method with explicit self\n  File \"/usr/lib/python3.7/pickle.py\", line 789, in save_tuple\n    save(element)\n  File \"/usr/lib/python3.7/pickle.py\", line 504, in save\n    f(self, obj) # Call unbound method with explicit self\n  File \"/usr/lib/python3.7/pickle.py\", line 819, in save_list\n    self._batch_appends(obj)\n  File \"/usr/lib/python3.7/pickle.py\", line 846, in _batch_appends\n    save(tmp[0])\n  File \"/usr/lib/python3.7/pickle.py\", line 504, in save\n    f(self, obj) # Call unbound method with explicit self\n  File \"/usr/lib/python3.7/pickle.py\", line 774, in save_tuple\n    save(element)\n  File \"/usr/lib/python3.7/pickle.py\", line 504, in save\n    f(self, obj) # Call unbound method with explicit self\n  File \"/usr/lib/python3.7/pickle.py\", line 789, in save_tuple\n    save(element)\n  File \"/usr/lib/python3.7/pickle.py\", line 549, in save\n    self.save_reduce(obj=obj, *rv)\n  File \"/usr/lib/python3.7/pickle.py\", line 662, in save_reduce\n    save(state)\n  File \"/usr/lib/python3.7/pickle.py\", line 504, in save\n    f(self, obj) # Call unbound method with explicit self\n  File \"/usr/lib/python3.7/pickle.py\", line 859, in save_dict\n    self._batch_setitems(obj.items())\n  File \"/usr/lib/python3.7/pickle.py\", line 885, in _batch_setitems\n    save(v)\n  File \"/usr/lib/python3.7/pickle.py\", line 549, in save\n    self.save_reduce(obj=obj, *rv)\n  File \"/usr/lib/python3.7/pickle.py\", line 662, in save_reduce\n    save(state)\n  File \"/usr/lib/python3.7/pickle.py\", line 504, in save\n    f(self, obj) # Call unbound method with explicit self\n  File \"/usr/lib/python3.7/pickle.py\", line 789, in save_tuple\n    save(element)\n  File \"/usr/lib/python3.7/pickle.py\", line 504, in save\n    f(self, obj) # Call unbound method with explicit self\n  File \"/usr/lib/python3.7/pickle.py\", line 819, in save_list\n    self._batch_appends(obj)\n  File \"/usr/lib/python3.7/pickle.py\", line 846, in _batch_appends\n    save(tmp[0])\n  File \"/usr/lib/python3.7/pickle.py\", line 549, in save\n    self.save_reduce(obj=obj, *rv)\n  File \"/usr/lib/python3.7/pickle.py\", line 638, in save_reduce\n    save(args)\n  File \"/usr/lib/python3.7/pickle.py\", line 504, in save\n    f(self, obj) # Call unbound method with explicit self\n  File \"/usr/lib/python3.7/pickle.py\", line 774, in save_tuple\n    save(element)\n  File \"/usr/lib/python3.7/pickle.py\", line 504, in save\n    f(self, obj) # Call unbound method with explicit self\n  File \"/usr/lib/python3.7/pickle.py\", line 859, in save_dict\n    self._batch_setitems(obj.items())\n  File \"/usr/lib/python3.7/pickle.py\", line 885, in _batch_setitems\n    save(v)\n  File \"/usr/lib/python3.7/pickle.py\", line 510, in save\n    rv = reduce(obj)\n  File \"/usr/local/lib/python3.7/dist-packages/joblib/_memmapping_reducer.py\", line 442, in __call__\n    for dumped_filename in dump(a, filename):\n  File \"/usr/local/lib/python3.7/dist-packages/joblib/numpy_pickle.py\", line 482, in dump\n    NumpyPickler(f, protocol=protocol).dump(value)\n  File \"/usr/lib/python3.7/pickle.py\", line 437, in dump\n    self.save(obj)\n  File \"/usr/local/lib/python3.7/dist-packages/joblib/numpy_pickle.py\", line 281, in save\n    wrapper.write_array(obj, self)\n  File \"/usr/local/lib/python3.7/dist-packages/joblib/numpy_pickle.py\", line 104, in write_array\n    pickler.file_handle.write(chunk.tobytes('C'))\nOSError: [Errno 28] No space left on device\n\"\"\"",
            "\nThe above exception was the direct cause of the following exception:\n",
            "\u001b[0;31mPicklingError\u001b[0m                             Traceback (most recent call last)",
            "\u001b[0;32m<ipython-input-22-9ed3fea03f38>\u001b[0m in \u001b[0;36m<module>\u001b[0;34m()\u001b[0m\n\u001b[0;32m----> 1\u001b[0;31m \u001b[0mefs\u001b[0m \u001b[0;34m=\u001b[0m \u001b[0mEFS\u001b[0m\u001b[0;34m(\u001b[0m\u001b[0mRF\u001b[0m\u001b[0;34m,\u001b[0m \u001b[0mmin_features\u001b[0m\u001b[0;34m=\u001b[0m\u001b[0;36m2\u001b[0m\u001b[0;34m,\u001b[0m\u001b[0mmax_features\u001b[0m \u001b[0;34m=\u001b[0m \u001b[0;36m21\u001b[0m\u001b[0;34m,\u001b[0m\u001b[0mn_jobs\u001b[0m \u001b[0;34m=\u001b[0m \u001b[0;34m-\u001b[0m\u001b[0;36m1\u001b[0m\u001b[0;34m)\u001b[0m\u001b[0;34m.\u001b[0m\u001b[0mfit\u001b[0m\u001b[0;34m(\u001b[0m\u001b[0mX_train\u001b[0m\u001b[0;34m,\u001b[0m\u001b[0my_train\u001b[0m\u001b[0;34m)\u001b[0m\u001b[0;34m\u001b[0m\u001b[0;34m\u001b[0m\u001b[0m\n\u001b[0m",
            "\u001b[0;32m/usr/local/lib/python3.7/dist-packages/mlxtend/feature_selection/exhaustive_feature_selector.py\u001b[0m in \u001b[0;36mfit\u001b[0;34m(self, X, y, custom_feature_names, groups, **fit_params)\u001b[0m\n\u001b[1;32m    294\u001b[0m             parallel(\n\u001b[1;32m    295\u001b[0m                 \u001b[0mdelayed\u001b[0m\u001b[0;34m(\u001b[0m\u001b[0m_calc_score\u001b[0m\u001b[0;34m)\u001b[0m\u001b[0;34m(\u001b[0m\u001b[0mself\u001b[0m\u001b[0;34m,\u001b[0m \u001b[0mX_\u001b[0m\u001b[0;34m,\u001b[0m \u001b[0my\u001b[0m\u001b[0;34m,\u001b[0m \u001b[0mc\u001b[0m\u001b[0;34m,\u001b[0m \u001b[0mgroups\u001b[0m\u001b[0;34m=\u001b[0m\u001b[0mgroups\u001b[0m\u001b[0;34m,\u001b[0m \u001b[0;34m**\u001b[0m\u001b[0mfit_params\u001b[0m\u001b[0;34m)\u001b[0m\u001b[0;34m\u001b[0m\u001b[0;34m\u001b[0m\u001b[0m\n\u001b[0;32m--> 296\u001b[0;31m                 \u001b[0;32mfor\u001b[0m \u001b[0mc\u001b[0m \u001b[0;32min\u001b[0m \u001b[0mcandidates\u001b[0m\u001b[0;34m\u001b[0m\u001b[0;34m\u001b[0m\u001b[0m\n\u001b[0m\u001b[1;32m    297\u001b[0m             )\n\u001b[1;32m    298\u001b[0m         )\n",
            "\u001b[0;32m/usr/local/lib/python3.7/dist-packages/joblib/parallel.py\u001b[0m in \u001b[0;36m__call__\u001b[0;34m(self, iterable)\u001b[0m\n\u001b[1;32m   1054\u001b[0m \u001b[0;34m\u001b[0m\u001b[0m\n\u001b[1;32m   1055\u001b[0m             \u001b[0;32mwith\u001b[0m \u001b[0mself\u001b[0m\u001b[0;34m.\u001b[0m\u001b[0m_backend\u001b[0m\u001b[0;34m.\u001b[0m\u001b[0mretrieval_context\u001b[0m\u001b[0;34m(\u001b[0m\u001b[0;34m)\u001b[0m\u001b[0;34m:\u001b[0m\u001b[0;34m\u001b[0m\u001b[0;34m\u001b[0m\u001b[0m\n\u001b[0;32m-> 1056\u001b[0;31m                 \u001b[0mself\u001b[0m\u001b[0;34m.\u001b[0m\u001b[0mretrieve\u001b[0m\u001b[0;34m(\u001b[0m\u001b[0;34m)\u001b[0m\u001b[0;34m\u001b[0m\u001b[0;34m\u001b[0m\u001b[0m\n\u001b[0m\u001b[1;32m   1057\u001b[0m             \u001b[0;31m# Make sure that we get a last message telling us we are done\u001b[0m\u001b[0;34m\u001b[0m\u001b[0;34m\u001b[0m\u001b[0;34m\u001b[0m\u001b[0m\n\u001b[1;32m   1058\u001b[0m             \u001b[0melapsed_time\u001b[0m \u001b[0;34m=\u001b[0m \u001b[0mtime\u001b[0m\u001b[0;34m.\u001b[0m\u001b[0mtime\u001b[0m\u001b[0;34m(\u001b[0m\u001b[0;34m)\u001b[0m \u001b[0;34m-\u001b[0m \u001b[0mself\u001b[0m\u001b[0;34m.\u001b[0m\u001b[0m_start_time\u001b[0m\u001b[0;34m\u001b[0m\u001b[0;34m\u001b[0m\u001b[0m\n",
            "\u001b[0;32m/usr/local/lib/python3.7/dist-packages/joblib/parallel.py\u001b[0m in \u001b[0;36mretrieve\u001b[0;34m(self)\u001b[0m\n\u001b[1;32m    933\u001b[0m             \u001b[0;32mtry\u001b[0m\u001b[0;34m:\u001b[0m\u001b[0;34m\u001b[0m\u001b[0;34m\u001b[0m\u001b[0m\n\u001b[1;32m    934\u001b[0m                 \u001b[0;32mif\u001b[0m \u001b[0mgetattr\u001b[0m\u001b[0;34m(\u001b[0m\u001b[0mself\u001b[0m\u001b[0;34m.\u001b[0m\u001b[0m_backend\u001b[0m\u001b[0;34m,\u001b[0m \u001b[0;34m'supports_timeout'\u001b[0m\u001b[0;34m,\u001b[0m \u001b[0;32mFalse\u001b[0m\u001b[0;34m)\u001b[0m\u001b[0;34m:\u001b[0m\u001b[0;34m\u001b[0m\u001b[0;34m\u001b[0m\u001b[0m\n\u001b[0;32m--> 935\u001b[0;31m                     \u001b[0mself\u001b[0m\u001b[0;34m.\u001b[0m\u001b[0m_output\u001b[0m\u001b[0;34m.\u001b[0m\u001b[0mextend\u001b[0m\u001b[0;34m(\u001b[0m\u001b[0mjob\u001b[0m\u001b[0;34m.\u001b[0m\u001b[0mget\u001b[0m\u001b[0;34m(\u001b[0m\u001b[0mtimeout\u001b[0m\u001b[0;34m=\u001b[0m\u001b[0mself\u001b[0m\u001b[0;34m.\u001b[0m\u001b[0mtimeout\u001b[0m\u001b[0;34m)\u001b[0m\u001b[0;34m)\u001b[0m\u001b[0;34m\u001b[0m\u001b[0;34m\u001b[0m\u001b[0m\n\u001b[0m\u001b[1;32m    936\u001b[0m                 \u001b[0;32melse\u001b[0m\u001b[0;34m:\u001b[0m\u001b[0;34m\u001b[0m\u001b[0;34m\u001b[0m\u001b[0m\n\u001b[1;32m    937\u001b[0m                     \u001b[0mself\u001b[0m\u001b[0;34m.\u001b[0m\u001b[0m_output\u001b[0m\u001b[0;34m.\u001b[0m\u001b[0mextend\u001b[0m\u001b[0;34m(\u001b[0m\u001b[0mjob\u001b[0m\u001b[0;34m.\u001b[0m\u001b[0mget\u001b[0m\u001b[0;34m(\u001b[0m\u001b[0;34m)\u001b[0m\u001b[0;34m)\u001b[0m\u001b[0;34m\u001b[0m\u001b[0;34m\u001b[0m\u001b[0m\n",
            "\u001b[0;32m/usr/local/lib/python3.7/dist-packages/joblib/_parallel_backends.py\u001b[0m in \u001b[0;36mwrap_future_result\u001b[0;34m(future, timeout)\u001b[0m\n\u001b[1;32m    540\u001b[0m         AsyncResults.get from multiprocessing.\"\"\"\n\u001b[1;32m    541\u001b[0m         \u001b[0;32mtry\u001b[0m\u001b[0;34m:\u001b[0m\u001b[0;34m\u001b[0m\u001b[0;34m\u001b[0m\u001b[0m\n\u001b[0;32m--> 542\u001b[0;31m             \u001b[0;32mreturn\u001b[0m \u001b[0mfuture\u001b[0m\u001b[0;34m.\u001b[0m\u001b[0mresult\u001b[0m\u001b[0;34m(\u001b[0m\u001b[0mtimeout\u001b[0m\u001b[0;34m=\u001b[0m\u001b[0mtimeout\u001b[0m\u001b[0;34m)\u001b[0m\u001b[0;34m\u001b[0m\u001b[0;34m\u001b[0m\u001b[0m\n\u001b[0m\u001b[1;32m    543\u001b[0m         \u001b[0;32mexcept\u001b[0m \u001b[0mCfTimeoutError\u001b[0m \u001b[0;32mas\u001b[0m \u001b[0me\u001b[0m\u001b[0;34m:\u001b[0m\u001b[0;34m\u001b[0m\u001b[0;34m\u001b[0m\u001b[0m\n\u001b[1;32m    544\u001b[0m             \u001b[0;32mraise\u001b[0m \u001b[0mTimeoutError\u001b[0m \u001b[0;32mfrom\u001b[0m \u001b[0me\u001b[0m\u001b[0;34m\u001b[0m\u001b[0;34m\u001b[0m\u001b[0m\n",
            "\u001b[0;32m/usr/lib/python3.7/concurrent/futures/_base.py\u001b[0m in \u001b[0;36mresult\u001b[0;34m(self, timeout)\u001b[0m\n\u001b[1;32m    426\u001b[0m                 \u001b[0;32mraise\u001b[0m \u001b[0mCancelledError\u001b[0m\u001b[0;34m(\u001b[0m\u001b[0;34m)\u001b[0m\u001b[0;34m\u001b[0m\u001b[0;34m\u001b[0m\u001b[0m\n\u001b[1;32m    427\u001b[0m             \u001b[0;32melif\u001b[0m \u001b[0mself\u001b[0m\u001b[0;34m.\u001b[0m\u001b[0m_state\u001b[0m \u001b[0;34m==\u001b[0m \u001b[0mFINISHED\u001b[0m\u001b[0;34m:\u001b[0m\u001b[0;34m\u001b[0m\u001b[0;34m\u001b[0m\u001b[0m\n\u001b[0;32m--> 428\u001b[0;31m                 \u001b[0;32mreturn\u001b[0m \u001b[0mself\u001b[0m\u001b[0;34m.\u001b[0m\u001b[0m__get_result\u001b[0m\u001b[0;34m(\u001b[0m\u001b[0;34m)\u001b[0m\u001b[0;34m\u001b[0m\u001b[0;34m\u001b[0m\u001b[0m\n\u001b[0m\u001b[1;32m    429\u001b[0m \u001b[0;34m\u001b[0m\u001b[0m\n\u001b[1;32m    430\u001b[0m             \u001b[0mself\u001b[0m\u001b[0;34m.\u001b[0m\u001b[0m_condition\u001b[0m\u001b[0;34m.\u001b[0m\u001b[0mwait\u001b[0m\u001b[0;34m(\u001b[0m\u001b[0mtimeout\u001b[0m\u001b[0;34m)\u001b[0m\u001b[0;34m\u001b[0m\u001b[0;34m\u001b[0m\u001b[0m\n",
            "\u001b[0;32m/usr/lib/python3.7/concurrent/futures/_base.py\u001b[0m in \u001b[0;36m__get_result\u001b[0;34m(self)\u001b[0m\n\u001b[1;32m    382\u001b[0m     \u001b[0;32mdef\u001b[0m \u001b[0m__get_result\u001b[0m\u001b[0;34m(\u001b[0m\u001b[0mself\u001b[0m\u001b[0;34m)\u001b[0m\u001b[0;34m:\u001b[0m\u001b[0;34m\u001b[0m\u001b[0;34m\u001b[0m\u001b[0m\n\u001b[1;32m    383\u001b[0m         \u001b[0;32mif\u001b[0m \u001b[0mself\u001b[0m\u001b[0;34m.\u001b[0m\u001b[0m_exception\u001b[0m\u001b[0;34m:\u001b[0m\u001b[0;34m\u001b[0m\u001b[0;34m\u001b[0m\u001b[0m\n\u001b[0;32m--> 384\u001b[0;31m             \u001b[0;32mraise\u001b[0m \u001b[0mself\u001b[0m\u001b[0;34m.\u001b[0m\u001b[0m_exception\u001b[0m\u001b[0;34m\u001b[0m\u001b[0;34m\u001b[0m\u001b[0m\n\u001b[0m\u001b[1;32m    385\u001b[0m         \u001b[0;32melse\u001b[0m\u001b[0;34m:\u001b[0m\u001b[0;34m\u001b[0m\u001b[0;34m\u001b[0m\u001b[0m\n\u001b[1;32m    386\u001b[0m             \u001b[0;32mreturn\u001b[0m \u001b[0mself\u001b[0m\u001b[0;34m.\u001b[0m\u001b[0m_result\u001b[0m\u001b[0;34m\u001b[0m\u001b[0;34m\u001b[0m\u001b[0m\n",
            "\u001b[0;31mPicklingError\u001b[0m: Could not pickle the task to send it to the workers."
          ]
        }
      ]
    },
    {
      "cell_type": "code",
      "source": [
        "efs.best_score_"
      ],
      "metadata": {
        "id": "XlS6q1mY9ffE"
      },
      "execution_count": null,
      "outputs": []
    }
  ]
}